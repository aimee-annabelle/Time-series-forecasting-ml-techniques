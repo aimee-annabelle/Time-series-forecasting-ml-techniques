{
 "cells": [
  {
   "cell_type": "markdown",
   "id": "102d9e1b",
   "metadata": {},
   "source": [
    "# Beijing Air Quality Forecasting - Improved LSTM Model\n",
    "\n",
    "This notebook builds on the best-performing approach, focusing on a robust LSTM model with careful feature engineering and missing value handling. The goal is RMSE < 70 locally and < 4000 on the Kaggle leaderboard."
   ]
  },
  {
   "cell_type": "code",
   "execution_count": 16,
   "id": "2a7a7088",
   "metadata": {},
   "outputs": [
    {
     "name": "stdout",
     "output_type": "stream",
     "text": [
      "Libraries imported successfully!\n"
     ]
    }
   ],
   "source": [
    "# Import libraries\n",
    "import pandas as pd\n",
    "import numpy as np\n",
    "import matplotlib.pyplot as plt\n",
    "import warnings\n",
    "from datetime import datetime\n",
    "import os\n",
    "\n",
    "import tensorflow as tf\n",
    "from tensorflow.keras.models import Sequential\n",
    "from tensorflow.keras.layers import LSTM, Dense, Dropout, Bidirectional\n",
    "from tensorflow.keras.optimizers import Adam\n",
    "from tensorflow.keras.callbacks import EarlyStopping, ReduceLROnPlateau\n",
    "\n",
    "from sklearn.preprocessing import RobustScaler\n",
    "from sklearn.metrics import mean_squared_error\n",
    "\n",
    "plt.style.use('default')\n",
    "warnings.filterwarnings('ignore')\n",
    "np.random.seed(42)\n",
    "tf.random.set_seed(42)\n",
    "print(\"Libraries imported successfully!\")"
   ]
  },
  {
   "cell_type": "code",
   "execution_count": 17,
   "id": "f14e7d38",
   "metadata": {},
   "outputs": [
    {
     "name": "stdout",
     "output_type": "stream",
     "text": [
      "Train shape: (30676, 11), Test shape: (13148, 10)\n",
      "Train columns: ['No', 'DEWP', 'TEMP', 'PRES', 'Iws', 'Is', 'Ir', 'cbwd_NW', 'cbwd_SE', 'cbwd_cv', 'pm2.5']\n"
     ]
    }
   ],
   "source": [
    "# Load data\n",
    "train = pd.read_csv('./data/train.csv')\n",
    "test = pd.read_csv('./data/test.csv')\n",
    "\n",
    "train['datetime'] = pd.to_datetime(train['datetime'])\n",
    "test['datetime'] = pd.to_datetime(test['datetime'])\n",
    "train.set_index('datetime', inplace=True)\n",
    "test.set_index('datetime', inplace=True)\n",
    "\n",
    "print(f'Train shape: {train.shape}, Test shape: {test.shape}')\n",
    "print(f'Train columns: {list(train.columns)}')"
   ]
  },
  {
   "cell_type": "code",
   "execution_count": 18,
   "id": "1bffaba6",
   "metadata": {},
   "outputs": [
    {
     "name": "stdout",
     "output_type": "stream",
     "text": [
      "After filling: Train missing: 0, Test missing: 0\n"
     ]
    }
   ],
   "source": [
    "# Fill missing values (no dropping)\n",
    "train_filled = train.fillna(method='ffill').fillna(method='bfill').interpolate()\n",
    "test_filled = test.fillna(method='ffill').fillna(method='bfill').interpolate()\n",
    "print(f'After filling: Train missing: {train_filled.isnull().sum().sum()}, Test missing: {test_filled.isnull().sum().sum()}')"
   ]
  },
  {
   "cell_type": "code",
   "execution_count": 19,
   "id": "81e7d04e",
   "metadata": {},
   "outputs": [
    {
     "name": "stdout",
     "output_type": "stream",
     "text": [
      "Advanced features applied. X_train: (30676, 73), X_test: (13148, 73)\n"
     ]
    }
   ],
   "source": [
    "# --- Advanced Feature Engineering from successful notebook ---\n",
    "def create_advanced_features(df, target_col='pm2.5'):\n",
    "    df_enhanced = df.copy()\n",
    "    # Temporal features\n",
    "    df_enhanced['hour'] = df_enhanced.index.hour\n",
    "    df_enhanced['day_of_week'] = df_enhanced.index.dayofweek\n",
    "    df_enhanced['month'] = df_enhanced.index.month\n",
    "    df_enhanced['season'] = (df_enhanced.index.month % 12 + 3) // 3\n",
    "    df_enhanced['day_of_year'] = df_enhanced.index.dayofyear\n",
    "    df_enhanced['week_of_year'] = df_enhanced.index.isocalendar().week\n",
    "    # Cyclical encodings\n",
    "    df_enhanced['hour_sin'] = np.sin(2 * np.pi * df_enhanced['hour'] / 24)\n",
    "    df_enhanced['hour_cos'] = np.cos(2 * np.pi * df_enhanced['hour'] / 24)\n",
    "    df_enhanced['day_sin'] = np.sin(2 * np.pi * df_enhanced['day_of_week'] / 7)\n",
    "    df_enhanced['day_cos'] = np.cos(2 * np.pi * df_enhanced['day_of_week'] / 7)\n",
    "    df_enhanced['month_sin'] = np.sin(2 * np.pi * df_enhanced['month'] / 12)\n",
    "    df_enhanced['month_cos'] = np.cos(2 * np.pi * df_enhanced['month'] / 12)\n",
    "    df_enhanced['doy_sin'] = np.sin(2 * np.pi * df_enhanced['day_of_year'] / 365)\n",
    "    df_enhanced['doy_cos'] = np.cos(2 * np.pi * df_enhanced['day_of_year'] / 365)\n",
    "    df_enhanced['week_sin'] = np.sin(2 * np.pi * df_enhanced['week_of_year'] / 52)\n",
    "    df_enhanced['week_cos'] = np.cos(2 * np.pi * df_enhanced['week_of_year'] / 52)\n",
    "    # Weather interactions\n",
    "    df_enhanced['temp_dewp_diff'] = df_enhanced['TEMP'] - df_enhanced['DEWP']\n",
    "    df_enhanced['temp_dewp_ratio'] = df_enhanced['TEMP'] / (df_enhanced['DEWP'] + 1e-6)\n",
    "    df_enhanced['wind_pressure'] = df_enhanced['Iws'] * df_enhanced['PRES']\n",
    "    df_enhanced['temp_pressure'] = df_enhanced['TEMP'] * df_enhanced['PRES']\n",
    "    df_enhanced['humidity_proxy'] = df_enhanced['DEWP'] / (df_enhanced['TEMP'] + 1e-6)\n",
    "    df_enhanced['pressure_normalized'] = df_enhanced['PRES'] / 1000\n",
    "    # Weather condition combinations\n",
    "    df_enhanced['temp_wind'] = df_enhanced['TEMP'] * df_enhanced['Iws']\n",
    "    df_enhanced['dewp_wind'] = df_enhanced['DEWP'] * df_enhanced['Iws']\n",
    "    df_enhanced['pressure_temp_ratio'] = df_enhanced['PRES'] / (df_enhanced['TEMP'] + 273.15)\n",
    "    # Lag and rolling features (if target available)\n",
    "    if target_col in df_enhanced.columns:\n",
    "        for lag in [1, 2, 3, 6, 12, 24, 48, 72, 96, 120]:\n",
    "            df_enhanced[f'pm2.5_lag_{lag}'] = df_enhanced[target_col].shift(lag)\n",
    "        for window in [3, 6, 12, 24, 48, 72, 96, 168]:\n",
    "            df_enhanced[f'pm2.5_roll_mean_{window}'] = df_enhanced[target_col].rolling(window).mean()\n",
    "            df_enhanced[f'pm2.5_roll_std_{window}'] = df_enhanced[target_col].rolling(window).std()\n",
    "            df_enhanced[f'pm2.5_roll_min_{window}'] = df_enhanced[target_col].rolling(window).min()\n",
    "            df_enhanced[f'pm2.5_roll_max_{window}'] = df_enhanced[target_col].rolling(window).max()\n",
    "            df_enhanced[f'pm2.5_roll_median_{window}'] = df_enhanced[target_col].rolling(window).median()\n",
    "        for hours in [3, 6, 12, 24, 48]:\n",
    "            df_enhanced[f'pm2.5_trend_{hours}h'] = df_enhanced[target_col] - df_enhanced[target_col].shift(hours)\n",
    "            df_enhanced[f'pm2.5_momentum_{hours}h'] = (df_enhanced[target_col] - df_enhanced[target_col].shift(hours)) / (hours + 1)\n",
    "        for window in [6, 12, 24, 48]:\n",
    "            df_enhanced[f'pm2.5_volatility_{window}h'] = df_enhanced[target_col].rolling(window).std() / (df_enhanced[target_col].rolling(window).mean() + 1e-6)\n",
    "    # Weather lag/rolling features\n",
    "    weather_cols = ['TEMP', 'DEWP', 'PRES', 'Iws']\n",
    "    for col in weather_cols:\n",
    "        if col in df_enhanced.columns:\n",
    "            for lag in [1, 3, 6, 12, 24]:\n",
    "                df_enhanced[f'{col}_lag_{lag}'] = df_enhanced[col].shift(lag)\n",
    "            for window in [6, 12, 24]:\n",
    "                df_enhanced[f'{col}_roll_mean_{window}'] = df_enhanced[col].rolling(window).mean()\n",
    "                df_enhanced[f'{col}_roll_std_{window}'] = df_enhanced[col].rolling(window).std()\n",
    "    # Drop original temporal columns\n",
    "    temporal_cols = ['hour', 'day_of_week', 'month', 'day_of_year', 'week_of_year']\n",
    "    df_enhanced = df_enhanced.drop([col for col in temporal_cols if col in df_enhanced.columns], axis=1, errors='ignore')\n",
    "    return df_enhanced\n",
    "\n",
    "def create_test_features_advanced(df):\n",
    "    return create_advanced_features(df).drop([col for col in df.columns if 'pm2.5' in col], axis=1, errors='ignore')\n",
    "\n",
    "# --- Apply advanced feature engineering and align features ---\n",
    "train_feat = create_advanced_features(train_filled)\n",
    "test_feat = create_test_features_advanced(test_filled)\n",
    "\n",
    "# Handle NaNs from lag/rolling features\n",
    "train_feat = train_feat.fillna(method='bfill').fillna(0)\n",
    "test_feat = test_feat.fillna(method='bfill').fillna(0)\n",
    "\n",
    "# Align features as in reference\n",
    "train_feature_cols = [col for col in train_feat.columns if col not in ['pm2.5', 'No']]\n",
    "test_feature_cols = [col for col in test_feat.columns if col != 'No']\n",
    "common_features = [col for col in train_feature_cols if col in test_feature_cols]\n",
    "\n",
    "X_train = train_feat[common_features]\n",
    "y_train = train_feat['pm2.5']\n",
    "X_test = test_feat[common_features]\n",
    "\n",
    "print(f'Advanced features applied. X_train: {X_train.shape}, X_test: {X_test.shape}')"
   ]
  },
  {
   "cell_type": "code",
   "execution_count": 20,
   "id": "f23f8166",
   "metadata": {},
   "outputs": [
    {
     "name": "stdout",
     "output_type": "stream",
     "text": [
      "Scaled shapes: X_train (30676, 73), X_test (13148, 73)\n"
     ]
    }
   ],
   "source": [
    "# Scale features\n",
    "scaler = RobustScaler()\n",
    "X_train_scaled = scaler.fit_transform(X_train)\n",
    "X_test_scaled = scaler.transform(X_test)\n",
    "print(f'Scaled shapes: X_train {X_train_scaled.shape}, X_test {X_test_scaled.shape}')"
   ]
  },
  {
   "cell_type": "code",
   "execution_count": 21,
   "id": "89e47020",
   "metadata": {},
   "outputs": [
    {
     "name": "stdout",
     "output_type": "stream",
     "text": [
      "Sequence shapes: X (30628, 48, 73), y (30628,)\n"
     ]
    }
   ],
   "source": [
    "# Sequence preparation\n",
    "def create_sequences(X, y, seq_len=48):\n",
    "    Xs, ys = [], []\n",
    "    for i in range(seq_len, len(X)):\n",
    "        Xs.append(X[i-seq_len:i])\n",
    "        ys.append(y[i])\n",
    "    return np.array(Xs), np.array(ys)\n",
    "\n",
    "SEQ_LEN = 48\n",
    "X_seq, y_seq = create_sequences(X_train_scaled, y_train.values, SEQ_LEN)\n",
    "print(f'Sequence shapes: X {X_seq.shape}, y {y_seq.shape}')"
   ]
  },
  {
   "cell_type": "code",
   "execution_count": 22,
   "id": "5d176628",
   "metadata": {},
   "outputs": [
    {
     "name": "stdout",
     "output_type": "stream",
     "text": [
      "Train: (26033, 48, 73), Val: (4595, 48, 73)\n"
     ]
    }
   ],
   "source": [
    "# Train/val split\n",
    "split = int(0.85 * len(X_seq))\n",
    "X_tr, X_val = X_seq[:split], X_seq[split:]\n",
    "y_tr, y_val = y_seq[:split], y_seq[split:]\n",
    "print(f'Train: {X_tr.shape}, Val: {X_val.shape}')"
   ]
  },
  {
   "cell_type": "code",
   "execution_count": 23,
   "id": "35074693",
   "metadata": {},
   "outputs": [
    {
     "data": {
      "text/html": [
       "<pre style=\"white-space:pre;overflow-x:auto;line-height:normal;font-family:Menlo,'DejaVu Sans Mono',consolas,'Courier New',monospace\"><span style=\"font-weight: bold\">Model: \"sequential_1\"</span>\n",
       "</pre>\n"
      ],
      "text/plain": [
       "\u001b[1mModel: \"sequential_1\"\u001b[0m\n"
      ]
     },
     "metadata": {},
     "output_type": "display_data"
    },
    {
     "data": {
      "text/html": [
       "<pre style=\"white-space:pre;overflow-x:auto;line-height:normal;font-family:Menlo,'DejaVu Sans Mono',consolas,'Courier New',monospace\">┏━━━━━━━━━━━━━━━━━━━━━━━━━━━━━━━━━┳━━━━━━━━━━━━━━━━━━━━━━━━┳━━━━━━━━━━━━━━━┓\n",
       "┃<span style=\"font-weight: bold\"> Layer (type)                    </span>┃<span style=\"font-weight: bold\"> Output Shape           </span>┃<span style=\"font-weight: bold\">       Param # </span>┃\n",
       "┡━━━━━━━━━━━━━━━━━━━━━━━━━━━━━━━━━╇━━━━━━━━━━━━━━━━━━━━━━━━╇━━━━━━━━━━━━━━━┩\n",
       "│ bidirectional (<span style=\"color: #0087ff; text-decoration-color: #0087ff\">Bidirectional</span>)   │ ?                      │   <span style=\"color: #00af00; text-decoration-color: #00af00\">0</span> (unbuilt) │\n",
       "├─────────────────────────────────┼────────────────────────┼───────────────┤\n",
       "│ dropout_2 (<span style=\"color: #0087ff; text-decoration-color: #0087ff\">Dropout</span>)             │ ?                      │             <span style=\"color: #00af00; text-decoration-color: #00af00\">0</span> │\n",
       "├─────────────────────────────────┼────────────────────────┼───────────────┤\n",
       "│ lstm_3 (<span style=\"color: #0087ff; text-decoration-color: #0087ff\">LSTM</span>)                   │ ?                      │   <span style=\"color: #00af00; text-decoration-color: #00af00\">0</span> (unbuilt) │\n",
       "├─────────────────────────────────┼────────────────────────┼───────────────┤\n",
       "│ dropout_3 (<span style=\"color: #0087ff; text-decoration-color: #0087ff\">Dropout</span>)             │ ?                      │             <span style=\"color: #00af00; text-decoration-color: #00af00\">0</span> │\n",
       "├─────────────────────────────────┼────────────────────────┼───────────────┤\n",
       "│ lstm_4 (<span style=\"color: #0087ff; text-decoration-color: #0087ff\">LSTM</span>)                   │ ?                      │   <span style=\"color: #00af00; text-decoration-color: #00af00\">0</span> (unbuilt) │\n",
       "├─────────────────────────────────┼────────────────────────┼───────────────┤\n",
       "│ dense_2 (<span style=\"color: #0087ff; text-decoration-color: #0087ff\">Dense</span>)                 │ ?                      │   <span style=\"color: #00af00; text-decoration-color: #00af00\">0</span> (unbuilt) │\n",
       "├─────────────────────────────────┼────────────────────────┼───────────────┤\n",
       "│ dropout_4 (<span style=\"color: #0087ff; text-decoration-color: #0087ff\">Dropout</span>)             │ ?                      │             <span style=\"color: #00af00; text-decoration-color: #00af00\">0</span> │\n",
       "├─────────────────────────────────┼────────────────────────┼───────────────┤\n",
       "│ dense_3 (<span style=\"color: #0087ff; text-decoration-color: #0087ff\">Dense</span>)                 │ ?                      │   <span style=\"color: #00af00; text-decoration-color: #00af00\">0</span> (unbuilt) │\n",
       "└─────────────────────────────────┴────────────────────────┴───────────────┘\n",
       "</pre>\n"
      ],
      "text/plain": [
       "┏━━━━━━━━━━━━━━━━━━━━━━━━━━━━━━━━━┳━━━━━━━━━━━━━━━━━━━━━━━━┳━━━━━━━━━━━━━━━┓\n",
       "┃\u001b[1m \u001b[0m\u001b[1mLayer (type)                   \u001b[0m\u001b[1m \u001b[0m┃\u001b[1m \u001b[0m\u001b[1mOutput Shape          \u001b[0m\u001b[1m \u001b[0m┃\u001b[1m \u001b[0m\u001b[1m      Param #\u001b[0m\u001b[1m \u001b[0m┃\n",
       "┡━━━━━━━━━━━━━━━━━━━━━━━━━━━━━━━━━╇━━━━━━━━━━━━━━━━━━━━━━━━╇━━━━━━━━━━━━━━━┩\n",
       "│ bidirectional (\u001b[38;5;33mBidirectional\u001b[0m)   │ ?                      │   \u001b[38;5;34m0\u001b[0m (unbuilt) │\n",
       "├─────────────────────────────────┼────────────────────────┼───────────────┤\n",
       "│ dropout_2 (\u001b[38;5;33mDropout\u001b[0m)             │ ?                      │             \u001b[38;5;34m0\u001b[0m │\n",
       "├─────────────────────────────────┼────────────────────────┼───────────────┤\n",
       "│ lstm_3 (\u001b[38;5;33mLSTM\u001b[0m)                   │ ?                      │   \u001b[38;5;34m0\u001b[0m (unbuilt) │\n",
       "├─────────────────────────────────┼────────────────────────┼───────────────┤\n",
       "│ dropout_3 (\u001b[38;5;33mDropout\u001b[0m)             │ ?                      │             \u001b[38;5;34m0\u001b[0m │\n",
       "├─────────────────────────────────┼────────────────────────┼───────────────┤\n",
       "│ lstm_4 (\u001b[38;5;33mLSTM\u001b[0m)                   │ ?                      │   \u001b[38;5;34m0\u001b[0m (unbuilt) │\n",
       "├─────────────────────────────────┼────────────────────────┼───────────────┤\n",
       "│ dense_2 (\u001b[38;5;33mDense\u001b[0m)                 │ ?                      │   \u001b[38;5;34m0\u001b[0m (unbuilt) │\n",
       "├─────────────────────────────────┼────────────────────────┼───────────────┤\n",
       "│ dropout_4 (\u001b[38;5;33mDropout\u001b[0m)             │ ?                      │             \u001b[38;5;34m0\u001b[0m │\n",
       "├─────────────────────────────────┼────────────────────────┼───────────────┤\n",
       "│ dense_3 (\u001b[38;5;33mDense\u001b[0m)                 │ ?                      │   \u001b[38;5;34m0\u001b[0m (unbuilt) │\n",
       "└─────────────────────────────────┴────────────────────────┴───────────────┘\n"
      ]
     },
     "metadata": {},
     "output_type": "display_data"
    },
    {
     "data": {
      "text/html": [
       "<pre style=\"white-space:pre;overflow-x:auto;line-height:normal;font-family:Menlo,'DejaVu Sans Mono',consolas,'Courier New',monospace\"><span style=\"font-weight: bold\"> Total params: </span><span style=\"color: #00af00; text-decoration-color: #00af00\">0</span> (0.00 B)\n",
       "</pre>\n"
      ],
      "text/plain": [
       "\u001b[1m Total params: \u001b[0m\u001b[38;5;34m0\u001b[0m (0.00 B)\n"
      ]
     },
     "metadata": {},
     "output_type": "display_data"
    },
    {
     "data": {
      "text/html": [
       "<pre style=\"white-space:pre;overflow-x:auto;line-height:normal;font-family:Menlo,'DejaVu Sans Mono',consolas,'Courier New',monospace\"><span style=\"font-weight: bold\"> Trainable params: </span><span style=\"color: #00af00; text-decoration-color: #00af00\">0</span> (0.00 B)\n",
       "</pre>\n"
      ],
      "text/plain": [
       "\u001b[1m Trainable params: \u001b[0m\u001b[38;5;34m0\u001b[0m (0.00 B)\n"
      ]
     },
     "metadata": {},
     "output_type": "display_data"
    },
    {
     "data": {
      "text/html": [
       "<pre style=\"white-space:pre;overflow-x:auto;line-height:normal;font-family:Menlo,'DejaVu Sans Mono',consolas,'Courier New',monospace\"><span style=\"font-weight: bold\"> Non-trainable params: </span><span style=\"color: #00af00; text-decoration-color: #00af00\">0</span> (0.00 B)\n",
       "</pre>\n"
      ],
      "text/plain": [
       "\u001b[1m Non-trainable params: \u001b[0m\u001b[38;5;34m0\u001b[0m (0.00 B)\n"
      ]
     },
     "metadata": {},
     "output_type": "display_data"
    }
   ],
   "source": [
    "# LSTM model (tuned)\n",
    "from tensorflow.keras.regularizers import l2\n",
    "\n",
    "model = Sequential([\n",
    "    Bidirectional(LSTM(128, return_sequences=True, input_shape=X_tr.shape[1:])),\n",
    "    Dropout(0.2),\n",
    "    LSTM(64, return_sequences=True, kernel_regularizer=l2(1e-4)),\n",
    "    Dropout(0.2),\n",
    "    LSTM(32, kernel_regularizer=l2(1e-4)),\n",
    "    Dense(64, activation='relu', kernel_regularizer=l2(1e-4)),\n",
    "    Dropout(0.3),\n",
    "    Dense(1)\n",
    "])\n",
    "model.compile(optimizer=Adam(learning_rate=0.0005), loss='mse', metrics=['mae'])\n",
    "model.summary()"
   ]
  },
  {
   "cell_type": "code",
   "execution_count": 24,
   "id": "d7ed3f04",
   "metadata": {},
   "outputs": [
    {
     "name": "stdout",
     "output_type": "stream",
     "text": [
      "Epoch 1/50\n",
      "\u001b[1m814/814\u001b[0m \u001b[32m━━━━━━━━━━━━━━━━━━━━\u001b[0m\u001b[37m\u001b[0m \u001b[1m65s\u001b[0m 76ms/step - loss: 9234.5000 - mae: 64.9884 - val_loss: 8638.3047 - val_mae: 56.7292 - learning_rate: 5.0000e-04\n",
      "Epoch 2/50\n",
      "\u001b[1m814/814\u001b[0m \u001b[32m━━━━━━━━━━━━━━━━━━━━\u001b[0m\u001b[37m\u001b[0m \u001b[1m65s\u001b[0m 80ms/step - loss: 3960.1082 - mae: 40.9427 - val_loss: 5884.6323 - val_mae: 48.1342 - learning_rate: 5.0000e-04\n",
      "Epoch 3/50\n",
      "\u001b[1m814/814\u001b[0m \u001b[32m━━━━━━━━━━━━━━━━━━━━\u001b[0m\u001b[37m\u001b[0m \u001b[1m67s\u001b[0m 82ms/step - loss: 2853.8438 - mae: 34.5146 - val_loss: 5472.8345 - val_mae: 47.0012 - learning_rate: 5.0000e-04\n",
      "Epoch 4/50\n",
      "\u001b[1m814/814\u001b[0m \u001b[32m━━━━━━━━━━━━━━━━━━━━\u001b[0m\u001b[37m\u001b[0m \u001b[1m66s\u001b[0m 81ms/step - loss: 2255.3035 - mae: 30.4457 - val_loss: 5766.8687 - val_mae: 48.4846 - learning_rate: 5.0000e-04\n",
      "Epoch 5/50\n",
      "\u001b[1m814/814\u001b[0m \u001b[32m━━━━━━━━━━━━━━━━━━━━\u001b[0m\u001b[37m\u001b[0m \u001b[1m64s\u001b[0m 79ms/step - loss: 1900.1744 - mae: 28.0526 - val_loss: 5491.0674 - val_mae: 47.0606 - learning_rate: 5.0000e-04\n",
      "Epoch 6/50\n",
      "\u001b[1m814/814\u001b[0m \u001b[32m━━━━━━━━━━━━━━━━━━━━\u001b[0m\u001b[37m\u001b[0m \u001b[1m65s\u001b[0m 80ms/step - loss: 1613.0398 - mae: 25.8225 - val_loss: 5690.8569 - val_mae: 47.6146 - learning_rate: 5.0000e-04\n",
      "Epoch 7/50\n",
      "\u001b[1m814/814\u001b[0m \u001b[32m━━━━━━━━━━━━━━━━━━━━\u001b[0m\u001b[37m\u001b[0m \u001b[1m66s\u001b[0m 82ms/step - loss: 1501.2800 - mae: 24.7002 - val_loss: 5819.2119 - val_mae: 47.7093 - learning_rate: 5.0000e-04\n",
      "Epoch 8/50\n",
      "\u001b[1m814/814\u001b[0m \u001b[32m━━━━━━━━━━━━━━━━━━━━\u001b[0m\u001b[37m\u001b[0m \u001b[1m65s\u001b[0m 80ms/step - loss: 1323.5912 - mae: 23.2281 - val_loss: 5650.9868 - val_mae: 49.0299 - learning_rate: 5.0000e-04\n",
      "Epoch 9/50\n",
      "\u001b[1m814/814\u001b[0m \u001b[32m━━━━━━━━━━━━━━━━━━━━\u001b[0m\u001b[37m\u001b[0m \u001b[1m66s\u001b[0m 81ms/step - loss: 1154.4741 - mae: 21.6166 - val_loss: 5549.7725 - val_mae: 48.4841 - learning_rate: 2.5000e-04\n",
      "Epoch 10/50\n",
      "\u001b[1m814/814\u001b[0m \u001b[32m━━━━━━━━━━━━━━━━━━━━\u001b[0m\u001b[37m\u001b[0m \u001b[1m67s\u001b[0m 82ms/step - loss: 1035.5291 - mae: 20.7310 - val_loss: 5669.3633 - val_mae: 48.7665 - learning_rate: 2.5000e-04\n",
      "Epoch 11/50\n",
      "\u001b[1m814/814\u001b[0m \u001b[32m━━━━━━━━━━━━━━━━━━━━\u001b[0m\u001b[37m\u001b[0m \u001b[1m66s\u001b[0m 81ms/step - loss: 971.7922 - mae: 19.9997 - val_loss: 6104.4121 - val_mae: 49.4061 - learning_rate: 2.5000e-04\n",
      "Epoch 12/50\n",
      "\u001b[1m814/814\u001b[0m \u001b[32m━━━━━━━━━━━━━━━━━━━━\u001b[0m\u001b[37m\u001b[0m \u001b[1m65s\u001b[0m 80ms/step - loss: 918.9349 - mae: 19.5134 - val_loss: 6055.7026 - val_mae: 48.9377 - learning_rate: 2.5000e-04\n",
      "Epoch 13/50\n",
      "\u001b[1m814/814\u001b[0m \u001b[32m━━━━━━━━━━━━━━━━━━━━\u001b[0m\u001b[37m\u001b[0m \u001b[1m66s\u001b[0m 80ms/step - loss: 901.1841 - mae: 19.2107 - val_loss: 6088.1030 - val_mae: 49.7637 - learning_rate: 2.5000e-04\n"
     ]
    }
   ],
   "source": [
    "# Training\n",
    "callbacks = [\n",
    "    EarlyStopping(patience=10, restore_best_weights=True, monitor='val_loss'),\n",
    "    ReduceLROnPlateau(factor=0.5, patience=5, min_lr=1e-6, monitor='val_loss')\n",
    "]\n",
    "history = model.fit(\n",
    "    X_tr, y_tr,\n",
    "    validation_data=(X_val, y_val),\n",
    "    epochs=50,\n",
    "    batch_size=32,\n",
    "    callbacks=callbacks,\n",
    "    verbose=1\n",
    ")"
   ]
  },
  {
   "cell_type": "code",
   "execution_count": 25,
   "id": "82cfd290",
   "metadata": {},
   "outputs": [
    {
     "name": "stdout",
     "output_type": "stream",
     "text": [
      "\u001b[1m144/144\u001b[0m \u001b[32m━━━━━━━━━━━━━━━━━━━━\u001b[0m\u001b[37m\u001b[0m \u001b[1m4s\u001b[0m 25ms/step\n",
      "Validation RMSE: 73.98\n"
     ]
    }
   ],
   "source": [
    "# Validation performance\n",
    "val_pred = model.predict(X_val)\n",
    "val_rmse = np.sqrt(mean_squared_error(y_val, val_pred))\n",
    "print(f'Validation RMSE: {val_rmse:.2f}')"
   ]
  },
  {
   "cell_type": "code",
   "execution_count": 26,
   "id": "933dbd68",
   "metadata": {},
   "outputs": [
    {
     "name": "stdout",
     "output_type": "stream",
     "text": [
      "Test sequence shape: (13148, 48, 73)\n"
     ]
    }
   ],
   "source": [
    "# Prepare test sequences\n",
    "def create_test_sequences(X_test, X_train, seq_len=48):\n",
    "    seqs = []\n",
    "    for i in range(len(X_test)):\n",
    "        if i < seq_len:\n",
    "            needed = seq_len - (i + 1)\n",
    "            if needed > 0:\n",
    "                seq = np.vstack([X_train[-needed:], X_test[:i+1]])\n",
    "            else:\n",
    "                seq = X_test[:seq_len]\n",
    "        else:\n",
    "            seq = X_test[i-seq_len+1:i+1]\n",
    "        seqs.append(seq)\n",
    "    return np.array(seqs)\n",
    "X_test_seq = create_test_sequences(X_test_scaled, X_train_scaled, SEQ_LEN)\n",
    "print(f'Test sequence shape: {X_test_seq.shape}')"
   ]
  },
  {
   "cell_type": "code",
   "execution_count": 27,
   "id": "623bf962",
   "metadata": {},
   "outputs": [
    {
     "name": "stdout",
     "output_type": "stream",
     "text": [
      "\u001b[1m411/411\u001b[0m \u001b[32m━━━━━━━━━━━━━━━━━━━━\u001b[0m\u001b[37m\u001b[0m \u001b[1m9s\u001b[0m 23ms/step\n",
      "Submission saved: submissions/improved_lstm_submission_20250921_232630.csv\n",
      "Tracking copy saved: submissions/tracking_20250921_232630.csv\n"
     ]
    }
   ],
   "source": [
    "# Predict and save submission with timestamp\n",
    "from datetime import datetime\n",
    "\n",
    "test_pred = model.predict(X_test_seq).flatten()\n",
    "test_pred = np.maximum(test_pred, 0)\n",
    "submission = pd.DataFrame({\n",
    "    'row ID': test.index.strftime('%Y-%m-%d %-H:%M:%S'),\n",
    "    'pm2.5': test_pred.round().astype(int)\n",
    "})\n",
    "timestamp = datetime.now().strftime('%Y%m%d_%H%M%S')\n",
    "filename = f'submissions/improved_lstm_submission_{timestamp}.csv'\n",
    "submission.to_csv(filename, index=False)\n",
    "# Also save a tracking copy\n",
    "tracking_filename = f'submissions/tracking_{timestamp}.csv'\n",
    "submission.to_csv(tracking_filename, index=False)\n",
    "print(f'Submission saved: {filename}')\n",
    "print(f'Tracking copy saved: {tracking_filename}')"
   ]
  },
  {
   "cell_type": "code",
   "execution_count": 28,
   "id": "167604ec",
   "metadata": {},
   "outputs": [
    {
     "data": {
      "image/png": "[encoded data removed]",
      "text/plain": [
       "<Figure size 1200x400 with 2 Axes>"
      ]
     },
     "metadata": {},
     "output_type": "display_data"
    }
   ],
   "source": [
    "# Plot training history\n",
    "plt.figure(figsize=(12,4))\n",
    "plt.subplot(1,2,1)\n",
    "plt.plot(history.history['loss'], label='Train')\n",
    "plt.plot(history.history['val_loss'], label='Val')\n",
    "plt.title('Loss')\n",
    "plt.legend()\n",
    "plt.subplot(1,2,2)\n",
    "plt.plot(history.history['mae'], label='Train')\n",
    "plt.plot(history.history['val_mae'], label='Val')\n",
    "plt.title('MAE')\n",
    "plt.legend()\n",
    "plt.show()"
   ]
  },
  {
   "cell_type": "markdown",
   "id": "ac9a0ec0",
   "metadata": {},
   "source": [
    "## Summary\n",
    "- LSTM model with careful feature engineering and missing value filling.\n",
    "- Simpler architecture for robust performance.\n",
    "- Ready for submission (expected RMSE < 70 locally, < 4000 on leaderboard)."
   ]
  },
  {
   "cell_type": "code",
   "execution_count": 29,
   "id": "9b93bbfa",
   "metadata": {},
   "outputs": [
    {
     "data": {
      "image/png": "[encoded data removed]",
      "text/plain": [
       "<Figure size 1200x500 with 2 Axes>"
      ]
     },
     "metadata": {},
     "output_type": "display_data"
    },
    {
     "name": "stdout",
     "output_type": "stream",
     "text": [
      "Train pm2.5: min=0.0, max=994.0, mean=99.5, std=92.1\n",
      "Test pred:   min=13.8, max=290.3, mean=97.4, std=71.6\n"
     ]
    }
   ],
   "source": [
    "# Evaluate prediction distribution vs. training target\n",
    "def plot_prediction_vs_train(y_train, test_pred):\n",
    "    plt.figure(figsize=(12,5))\n",
    "    plt.subplot(1,2,1)\n",
    "    plt.hist(y_train, bins=50, alpha=0.7, label='Train pm2.5')\n",
    "    plt.hist(test_pred, bins=50, alpha=0.7, label='Test Prediction')\n",
    "    plt.legend()\n",
    "    plt.title('Distribution: Train Target vs. Test Prediction')\n",
    "    plt.xlabel('pm2.5')\n",
    "    plt.ylabel('Frequency')\n",
    "    \n",
    "    plt.subplot(1,2,2)\n",
    "    plt.boxplot([y_train, test_pred], labels=['Train pm2.5', 'Test Prediction'])\n",
    "    plt.title('Boxplot: Train vs. Prediction')\n",
    "    plt.ylabel('pm2.5')\n",
    "    plt.show()\n",
    "    \n",
    "    print(f\"Train pm2.5: min={np.min(y_train):.1f}, max={np.max(y_train):.1f}, mean={np.mean(y_train):.1f}, std={np.std(y_train):.1f}\")\n",
    "    print(f\"Test pred:   min={np.min(test_pred):.1f}, max={np.max(test_pred):.1f}, mean={np.mean(test_pred):.1f}, std={np.std(test_pred):.1f}\")\n",
    "\n",
    "# Call the function (ensure y_train and test_pred are available)\n",
    "plot_prediction_vs_train(y_train, test_pred)"
   ]
  }
 ],
 "metadata": {
  "kernelspec": {
   "display_name": "Python 3",
   "language": "python",
   "name": "python3"
  },
  "language_info": {
   "codemirror_mode": {
    "name": "ipython",
    "version": 3
   },
   "file_extension": ".py",
   "mimetype": "text/x-python",
   "name": "python",
   "nbconvert_exporter": "python",
   "pygments_lexer": "ipython3",
   "version": "3.11.11"
  }
 },
 "nbformat": 4,
 "nbformat_minor": 5
}
