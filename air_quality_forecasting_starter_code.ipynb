{
  "cells": [
    {
      "cell_type": "markdown",
      "metadata": {
        "id": "iTsEYdtov6tp"
      },
      "source": [
        "# Beijing air quality forecasting"
      ]
    },
    {
      "cell_type": "code",
      "execution_count": 42,
      "metadata": {
        "id": "nWkSHhqXrCqF"
      },
      "outputs": [
        {
          "name": "stdout",
          "output_type": "stream",
          "text": [
            "Libraries imported successfully!\n",
            "TensorFlow version: 2.20.0-rc0\n"
          ]
        }
      ],
      "source": [
        "import pandas as pd\n",
        "import numpy as np\n",
        "import matplotlib.pyplot as plt\n",
        "import seaborn as sns\n",
        "from sklearn.preprocessing import StandardScaler, MinMaxScaler\n",
        "from sklearn.metrics import mean_squared_error\n",
        "import warnings\n",
        "warnings.filterwarnings('ignore')\n",
        "\n",
        "# For deep learning - we'll use TensorFlow/Keras\n",
        "import tensorflow as tf\n",
        "from tensorflow.keras.models import Sequential\n",
        "from tensorflow.keras.layers import LSTM, Dense, Dropout\n",
        "from tensorflow.keras.optimizers import Adam\n",
        "\n",
        "# Set random seeds for reproducibility\n",
        "np.random.seed(42)\n",
        "tf.random.set_seed(42)\n",
        "\n",
        "print(\"Libraries imported successfully!\")\n",
        "print(f\"TensorFlow version: {tf.__version__}\")"
      ]
    },
    {
      "cell_type": "code",
      "execution_count": 43,
      "metadata": {},
      "outputs": [
        {
          "name": "stdout",
          "output_type": "stream",
          "text": [
            "Data loaded successfully!\n",
            "Train shape: (30676, 12)\n",
            "Test shape: (13148, 11)\n",
            "Sample submission shape: (13148, 2)\n"
          ]
        }
      ],
      "source": [
        "# Load the data\n",
        "train = pd.read_csv('data/train.csv')\n",
        "test = pd.read_csv('data/test.csv')\n",
        "sample_submission = pd.read_csv('sample_submission.csv')\n",
        "\n",
        "print(\"Data loaded successfully!\")\n",
        "print(f\"Train shape: {train.shape}\")\n",
        "print(f\"Test shape: {test.shape}\")\n",
        "print(f\"Sample submission shape: {sample_submission.shape}\")"
      ]
    },
    {
      "cell_type": "markdown",
      "metadata": {
        "id": "cRse3uqRrft5"
      },
      "source": [
        "# Data exploration\n",
        "\n",
        "Explore the dataset with statistics and visualizations to understand the data better."
      ]
    },
    {
      "cell_type": "code",
      "execution_count": 44,
      "metadata": {},
      "outputs": [
        {
          "name": "stdout",
          "output_type": "stream",
          "text": [
            "Train data info:\n",
            "<class 'pandas.core.frame.DataFrame'>\n",
            "RangeIndex: 30676 entries, 0 to 30675\n",
            "Data columns (total 12 columns):\n",
            " #   Column    Non-Null Count  Dtype  \n",
            "---  ------    --------------  -----  \n",
            " 0   No        30676 non-null  int64  \n",
            " 1   DEWP      30676 non-null  float64\n",
            " 2   TEMP      30676 non-null  float64\n",
            " 3   PRES      30676 non-null  float64\n",
            " 4   Iws       30676 non-null  float64\n",
            " 5   Is        30676 non-null  float64\n",
            " 6   Ir        30676 non-null  float64\n",
            " 7   datetime  30676 non-null  object \n",
            " 8   cbwd_NW   30676 non-null  float64\n",
            " 9   cbwd_SE   30676 non-null  float64\n",
            " 10  cbwd_cv   30676 non-null  float64\n",
            " 11  pm2.5     28755 non-null  float64\n",
            "dtypes: float64(10), int64(1), object(1)\n",
            "memory usage: 2.8+ MB\n",
            "None\n",
            "\n",
            "Train data describe:\n",
            "                 No          DEWP          TEMP          PRES           Iws  \\\n",
            "count  30676.000000  30676.000000  30676.000000  30676.000000  30676.000000   \n",
            "mean   15338.500000     -0.029431     -0.062712      0.013612      0.030542   \n",
            "std     8855.542765      0.994087      1.015193      1.008991      1.018337   \n",
            "min        1.000000     -2.135153     -2.578070     -2.380821     -0.468688   \n",
            "25%     7669.750000     -0.888034     -0.938521     -0.822670     -0.441894   \n",
            "50%    15338.500000     -0.056622      0.045209     -0.043595     -0.352512   \n",
            "75%    23007.250000      0.913358      0.864984      0.832865      0.005216   \n",
            "max    30676.000000      1.814055      2.340578      2.877939     11.231956   \n",
            "\n",
            "                 Is            Ir       cbwd_NW       cbwd_SE       cbwd_cv  \\\n",
            "count  30676.000000  30676.000000  30676.000000  30676.000000  30676.000000   \n",
            "mean       0.016992      0.011253      0.016193      0.005833     -0.025008   \n",
            "std        1.087278      1.063811      1.006001      1.001847      0.982122   \n",
            "min       -0.069353     -0.137667     -0.690542     -0.732019     -0.522096   \n",
            "25%       -0.069353     -0.137667     -0.690542     -0.732019     -0.522096   \n",
            "50%       -0.069353     -0.137667     -0.690542     -0.732019     -0.522096   \n",
            "75%       -0.069353     -0.137667      1.448138      1.366085     -0.522096   \n",
            "max       35.439859     25.288745      1.448138      1.366085      1.915355   \n",
            "\n",
            "              pm2.5  \n",
            "count  28755.000000  \n",
            "mean     100.793427  \n",
            "std       93.144433  \n",
            "min        0.000000  \n",
            "25%       29.000000  \n",
            "50%       75.000000  \n",
            "75%      142.000000  \n",
            "max      994.000000  \n",
            "\n",
            "Missing values:\n",
            "Train missing values:\n",
            "No             0\n",
            "DEWP           0\n",
            "TEMP           0\n",
            "PRES           0\n",
            "Iws            0\n",
            "Is             0\n",
            "Ir             0\n",
            "datetime       0\n",
            "cbwd_NW        0\n",
            "cbwd_SE        0\n",
            "cbwd_cv        0\n",
            "pm2.5       1921\n",
            "dtype: int64\n",
            "\n",
            "Test missing values:\n",
            "No          0\n",
            "DEWP        0\n",
            "TEMP        0\n",
            "PRES        0\n",
            "Iws         0\n",
            "Is          0\n",
            "Ir          0\n",
            "datetime    0\n",
            "cbwd_NW     0\n",
            "cbwd_SE     0\n",
            "cbwd_cv     0\n",
            "dtype: int64\n"
          ]
        }
      ],
      "source": [
        "# Basic data exploration\n",
        "print(\"Train data info:\")\n",
        "print(train.info())\n",
        "print(\"\\nTrain data describe:\")\n",
        "print(train.describe())\n",
        "\n",
        "print(\"\\nMissing values:\")\n",
        "print(\"Train missing values:\")\n",
        "print(train.isnull().sum())\n",
        "print(\"\\nTest missing values:\")\n",
        "print(test.isnull().sum())"
      ]
    },
    {
      "cell_type": "code",
      "execution_count": 45,
      "metadata": {
        "colab": {
          "base_uri": "https://localhost:8080/",
          "height": 223
        },
        "id": "3R74CEBFrYok",
        "outputId": "0e593627-9c80-490c-826e-74e4df4a2249"
      },
      "outputs": [
        {
          "name": "stdout",
          "output_type": "stream",
          "text": [
            "Training Data Overview:\n",
            "          No      DEWP      TEMP      PRES       Iws        Is        Ir  \\\n",
            "30671  30672  1.467633  0.946961 -2.088668 -0.415099 -0.069353  2.687490   \n",
            "30672  30673  1.329064  0.864984 -2.186052 -0.379306 -0.069353  3.393779   \n",
            "30673  30674  1.259780  0.701029 -2.088668 -0.263130 -0.069353  4.100068   \n",
            "30674  30675  1.190496  0.701029 -2.088668 -0.146953 -0.069353  4.806358   \n",
            "30675  30676  1.190496  0.701029 -2.186052 -0.084366 -0.069353 -0.137667   \n",
            "\n",
            "                  datetime   cbwd_NW   cbwd_SE   cbwd_cv  pm2.5  \n",
            "30671  2013-07-01 23:00:00 -0.690542 -0.732019 -0.522096   50.0  \n",
            "30672  2013-07-02 00:00:00  1.448138 -0.732019 -0.522096   41.0  \n",
            "30673  2013-07-02 01:00:00  1.448138 -0.732019 -0.522096   32.0  \n",
            "30674  2013-07-02 02:00:00  1.448138 -0.732019 -0.522096   19.0  \n",
            "30675  2013-07-02 03:00:00  1.448138 -0.732019 -0.522096   18.0  \n",
            "First datetime: 2010-01-01 00:00:00\n",
            "Last datetime: 2013-07-02 03:00:00\n"
          ]
        }
      ],
      "source": [
        "# Inspecting the first few rows of the dataset to understand its structure.\n",
        "print(\"Training Data Overview:\")\n",
        "train.head()\n",
        "print(train.tail())\n",
        "print(f\"First datetime: {train['datetime'].iloc[0]}\")\n",
        "print(f\"Last datetime: {train['datetime'].iloc[-1]}\")"
      ]
    },
    {
      "cell_type": "code",
      "execution_count": 46,
      "metadata": {
        "colab": {
          "base_uri": "https://localhost:8080/"
        },
        "id": "-om6hH_RtG8Z",
        "outputId": "8fefc873-d80f-4b45-ead2-89bbfc8d4d62"
      },
      "outputs": [
        {
          "data": {
            "text/plain": [
              "Index(['No', 'DEWP', 'TEMP', 'PRES', 'Iws', 'Is', 'Ir', 'datetime', 'cbwd_NW',\n",
              "       'cbwd_SE', 'cbwd_cv', 'pm2.5'],\n",
              "      dtype='object')"
            ]
          },
          "execution_count": 46,
          "metadata": {},
          "output_type": "execute_result"
        }
      ],
      "source": [
        "train.columns"
      ]
    },
    {
      "cell_type": "code",
      "execution_count": 47,
      "metadata": {
        "id": "35IGrMYRscQx"
      },
      "outputs": [
        {
          "name": "stdout",
          "output_type": "stream",
          "text": [
            "Datetime preprocessing completed!\n",
            "Train date range: 2010-01-01 00:00:00 to 2013-07-02 03:00:00\n",
            "Test date range: 2013-07-02 04:00:00 to 2014-12-31 23:00:00\n"
          ]
        }
      ],
      "source": [
        "# Ensure 'datetime' column is in datetime format\n",
        "train['datetime'] = pd.to_datetime(train['datetime'])\n",
        "\n",
        "test['datetime'] = pd.to_datetime(test['datetime'])\n",
        "\n",
        "# Set the 'datetime' column as the index for better time-series handling\n",
        "train.set_index('datetime', inplace=True)\n",
        "# val.set_index('datetime', inplace=True)\n",
        "test.set_index('datetime', inplace=True)\n",
        "\n",
        "print(\"Datetime preprocessing completed!\")\n",
        "print(f\"Train date range: {train.index.min()} to {train.index.max()}\")\n",
        "print(f\"Test date range: {test.index.min()} to {test.index.max()}\")\n"
      ]
    },
    {
      "cell_type": "code",
      "execution_count": 48,
      "metadata": {},
      "outputs": [
        {
          "name": "stdout",
          "output_type": "stream",
          "text": [
            "PM2.5 analysis\n",
            "PM2.5 min: 0.0\n",
            "PM2.5 max: 994.0\n",
            "PM2.5 mean: 100.79\n",
            "PM2.5 std: 93.14\n",
            "\n",
            "Missing PM2.5 pattern\n",
            "Missing values: 1921\n",
            "Percentage missing: 6.26%\n"
          ]
        }
      ],
      "source": [
        "# Examine PM2.5 values\n",
        "print(\"PM2.5 analysis\")\n",
        "print(f\"PM2.5 min: {train['pm2.5'].min()}\")\n",
        "print(f\"PM2.5 max: {train['pm2.5'].max()}\")\n",
        "print(f\"PM2.5 mean: {train['pm2.5'].mean():.2f}\")\n",
        "print(f\"PM2.5 std: {train['pm2.5'].std():.2f}\")\n",
        "\n",
        "# Check where missing values are located\n",
        "print(f\"\\nMissing PM2.5 pattern\")\n",
        "missing_count = train['pm2.5'].isnull().sum()\n",
        "print(f\"Missing values: {missing_count}\")\n",
        "print(f\"Percentage missing: {missing_count/len(train)*100:.2f}%\")\n"
      ]
    },
    {
      "cell_type": "code",
      "execution_count": 49,
      "metadata": {},
      "outputs": [
        {
          "name": "stdout",
          "output_type": "stream",
          "text": [
            "Detailed Missing PM2.5 Analysis\n",
            "First 20 rows of missing PM2.5:\n",
            "                     pm2.5\n",
            "datetime                  \n",
            "2010-01-01 00:00:00    NaN\n",
            "2010-01-01 01:00:00    NaN\n",
            "2010-01-01 02:00:00    NaN\n",
            "2010-01-01 03:00:00    NaN\n",
            "2010-01-01 04:00:00    NaN\n",
            "2010-01-01 05:00:00    NaN\n",
            "2010-01-01 06:00:00    NaN\n",
            "2010-01-01 07:00:00    NaN\n",
            "2010-01-01 08:00:00    NaN\n",
            "2010-01-01 09:00:00    NaN\n",
            "2010-01-01 10:00:00    NaN\n",
            "2010-01-01 11:00:00    NaN\n",
            "2010-01-01 12:00:00    NaN\n",
            "2010-01-01 13:00:00    NaN\n",
            "2010-01-01 14:00:00    NaN\n",
            "2010-01-01 15:00:00    NaN\n",
            "2010-01-01 16:00:00    NaN\n",
            "2010-01-01 17:00:00    NaN\n",
            "2010-01-01 18:00:00    NaN\n",
            "2010-01-01 19:00:00    NaN\n",
            "\n",
            "First valid PM2.5 measurement: 2010-01-02 00:00:00\n",
            "\n",
            "Missing values by month:\n",
            "month\n",
            "1     242\n",
            "2       8\n",
            "3     163\n",
            "4     192\n",
            "5     109\n",
            "6     178\n",
            "7      59\n",
            "8     363\n",
            "9     259\n",
            "10    134\n",
            "11     83\n",
            "12    131\n",
            "Name: pm2.5, dtype: int64\n",
            "\n",
            "First 20 rows of missing PM2.5:\n",
            "                     pm2.5\n",
            "datetime                  \n",
            "2010-01-01 00:00:00    NaN\n",
            "2010-01-01 01:00:00    NaN\n",
            "2010-01-01 02:00:00    NaN\n",
            "2010-01-01 03:00:00    NaN\n",
            "2010-01-01 04:00:00    NaN\n",
            "2010-01-01 05:00:00    NaN\n",
            "2010-01-01 06:00:00    NaN\n",
            "2010-01-01 07:00:00    NaN\n",
            "2010-01-01 08:00:00    NaN\n",
            "2010-01-01 09:00:00    NaN\n",
            "2010-01-01 10:00:00    NaN\n",
            "2010-01-01 11:00:00    NaN\n",
            "2010-01-01 12:00:00    NaN\n",
            "2010-01-01 13:00:00    NaN\n",
            "2010-01-01 14:00:00    NaN\n",
            "2010-01-01 15:00:00    NaN\n",
            "2010-01-01 16:00:00    NaN\n",
            "2010-01-01 17:00:00    NaN\n",
            "2010-01-01 18:00:00    NaN\n",
            "2010-01-01 19:00:00    NaN\n",
            "\n",
            "First valid PM2.5 measurement: 2010-01-02 00:00:00\n",
            "\n",
            "Missing values by month:\n",
            "month\n",
            "1     242\n",
            "2       8\n",
            "3     163\n",
            "4     192\n",
            "5     109\n",
            "6     178\n",
            "7      59\n",
            "8     363\n",
            "9     259\n",
            "10    134\n",
            "11     83\n",
            "12    131\n",
            "Name: pm2.5, dtype: int64\n"
          ]
        }
      ],
      "source": [
        "# Check the missing value pattern more thoroughly\n",
        "print(\"Detailed Missing PM2.5 Analysis\")\n",
        "print(\"First 20 rows of missing PM2.5:\")\n",
        "missing_mask = train['pm2.5'].isnull()\n",
        "print(train[missing_mask].head(20)[['pm2.5']])\n",
        "\n",
        "# Find where valid data starts\n",
        "first_valid_idx = train['pm2.5'].first_valid_index()\n",
        "print(f\"\\nFirst valid PM2.5 measurement: {first_valid_idx}\")\n",
        "\n",
        "# Check if missing values are scattered or concentrated\n",
        "print(f\"\\nMissing values by month:\")\n",
        "train_with_month = train.copy()\n",
        "train_with_month['month'] = train_with_month.index.month\n",
        "print(train_with_month.groupby('month')['pm2.5'].apply(lambda x: x.isnull().sum()))"
      ]
    },
    {
      "cell_type": "markdown",
      "metadata": {
        "id": "ABAqt0Jztd5s"
      },
      "source": [
        "# Handle missing values\n",
        "\n",
        "Check the dataset for missing values and decide how to handle them."
      ]
    },
    {
      "cell_type": "code",
      "execution_count": 50,
      "metadata": {},
      "outputs": [
        {
          "name": "stdout",
          "output_type": "stream",
          "text": [
            "Gap analysis\n",
            "Consecutive missing value periods:\n",
            "Number of missing periods: 163\n",
            "Average gap length: 11.8 hours\n",
            "Max gap length: 155 hours\n",
            "Min gap length: 1 hours\n"
          ]
        }
      ],
      "source": [
        "# Step 1: Check the gaps more systematically\n",
        "print(\"Gap analysis\")\n",
        "# Find consecutive missing periods\n",
        "missing_periods = train['pm2.5'].isnull()\n",
        "# Group consecutive missing values\n",
        "groups = (missing_periods != missing_periods.shift()).cumsum()\n",
        "missing_groups = train[missing_periods].groupby(groups).size()\n",
        "\n",
        "print(\"Consecutive missing value periods:\")\n",
        "print(f\"Number of missing periods: {len(missing_groups)}\")\n",
        "print(f\"Average gap length: {missing_groups.mean():.1f} hours\")\n",
        "print(f\"Max gap length: {missing_groups.max()} hours\")\n",
        "print(f\"Min gap length: {missing_groups.min()} hours\")"
      ]
    },
    {
      "cell_type": "code",
      "execution_count": 51,
      "metadata": {},
      "outputs": [
        {
          "name": "stdout",
          "output_type": "stream",
          "text": [
            "Handling Missing Values\n",
            "Original data points: 30676\n",
            "Missing PM2.5: 1921\n",
            "After dropping missing PM2.5: 28755\n",
            "Data retained: 93.7%\n",
            "Missing values after cleaning: 0\n",
            "Missing values after cleaning: 0\n"
          ]
        }
      ],
      "source": [
        "# Step 2: Handle missing values\n",
        "print(\"Handling Missing Values\")\n",
        "print(f\"Original data points: {len(train)}\")\n",
        "print(f\"Missing PM2.5: {train['pm2.5'].isnull().sum()}\")\n",
        "\n",
        "# Option 1: Simple dropna\n",
        "train_clean = train.dropna(subset=['pm2.5']).copy()\n",
        "print(f\"After dropping missing PM2.5: {len(train_clean)}\")\n",
        "print(f\"Data retained: {len(train_clean)/len(train)*100:.1f}%\")\n",
        "\n",
        "# Verify no missing values remain\n",
        "print(f\"Missing values after cleaning: {train_clean.isnull().sum().sum()}\")"
      ]
    },
    {
      "cell_type": "code",
      "execution_count": 52,
      "metadata": {},
      "outputs": [
        {
          "name": "stdout",
          "output_type": "stream",
          "text": [
            "Time continuity check:\n",
            "Number of gaps > 1 hour: 162\n",
            "Largest gaps:\n",
            "datetime\n",
            "2010-09-27 16:00:00   6 days 12:00:00\n",
            "2012-12-28 13:00:00   5 days 08:00:00\n",
            "2011-10-07 16:00:00   4 days 04:00:00\n",
            "2011-03-21 16:00:00   3 days 20:00:00\n",
            "2010-09-30 21:00:00   3 days 05:00:00\n",
            "Name: datetime, dtype: timedelta64[ns]\n",
            "Number of gaps > 1 hour: 162\n",
            "Largest gaps:\n",
            "datetime\n",
            "2010-09-27 16:00:00   6 days 12:00:00\n",
            "2012-12-28 13:00:00   5 days 08:00:00\n",
            "2011-10-07 16:00:00   4 days 04:00:00\n",
            "2011-03-21 16:00:00   3 days 20:00:00\n",
            "2010-09-30 21:00:00   3 days 05:00:00\n",
            "Name: datetime, dtype: timedelta64[ns]\n"
          ]
        }
      ],
      "source": [
        "# Check for time continuity (important for time series)\n",
        "print(\"Time continuity check:\")\n",
        "time_diff = train_clean.index.to_series().diff()\n",
        "expected_freq = pd.Timedelta(hours=1)\n",
        "\n",
        "# Find any gaps larger than 1 hour\n",
        "gaps = time_diff[time_diff > expected_freq]\n",
        "print(f\"Number of gaps > 1 hour: {len(gaps)}\")\n",
        "if len(gaps) > 0:\n",
        "    print(\"Largest gaps:\")\n",
        "    print(gaps.nlargest(5))\n",
        "else:\n",
        "    print(\"No gaps found - data is continuous!\")"
      ]
    },
    {
      "cell_type": "markdown",
      "metadata": {
        "id": "YKndkdRuty1C"
      },
      "source": [
        "# Feature and target separation\n",
        "\n",
        "Separate features and target variable for model training."
      ]
    },
    {
      "cell_type": "code",
      "execution_count": 53,
      "metadata": {},
      "outputs": [
        {
          "name": "stdout",
          "output_type": "stream",
          "text": [
            "Current Features\n",
            "Columns in clean training data:\n",
            "['No', 'DEWP', 'TEMP', 'PRES', 'Iws', 'Is', 'Ir', 'cbwd_NW', 'cbwd_SE', 'cbwd_cv', 'pm2.5']\n",
            "\n",
            "Data shape: (28755, 11)\n",
            "\n",
            "Feature Correlations with PM2.5\n"
          ]
        },
        {
          "name": "stdout",
          "output_type": "stream",
          "text": [
            "pm2.5      1.000000\n",
            "Iws       -0.260250\n",
            "cbwd_NW   -0.231176\n",
            "DEWP       0.218187\n",
            "cbwd_cv    0.158033\n",
            "cbwd_SE    0.118986\n",
            "PRES      -0.107773\n",
            "Ir        -0.052288\n",
            "TEMP      -0.039601\n",
            "Is         0.022279\n",
            "No         0.017961\n",
            "Name: pm2.5, dtype: float64\n"
          ]
        }
      ],
      "source": [
        "# Let's examine what features we have\n",
        "print(\"Current Features\")\n",
        "print(\"Columns in clean training data:\")\n",
        "print(train_clean.columns.tolist())\n",
        "print(f\"\\nData shape: {train_clean.shape}\")\n",
        "\n",
        "# Look at feature correlations with PM2.5\n",
        "print(\"\\nFeature Correlations with PM2.5\")\n",
        "correlations = train_clean.corr()['pm2.5'].sort_values(key=abs, ascending=False)\n",
        "print(correlations)"
      ]
    },
    {
      "cell_type": "code",
      "execution_count": 54,
      "metadata": {
        "id": "QETLRAo_tvQH"
      },
      "outputs": [
        {
          "name": "stdout",
          "output_type": "stream",
          "text": [
            "Feature-target split completed!\n",
            "X_train shape: (28755, 9)\n",
            "y_train shape: (28755,)\n",
            "X_test shape: (13148, 9)\n",
            "\n",
            "Final features: ['DEWP', 'TEMP', 'PRES', 'Iws', 'Is', 'Ir', 'cbwd_NW', 'cbwd_SE', 'cbwd_cv']\n"
          ]
        }
      ],
      "source": [
        "X_train = train_clean.drop(['pm2.5', 'No'], axis=1)\n",
        "y_train = train_clean['pm2.5']\n",
        "\n",
        "# Similarly for test data\n",
        "X_test = test.drop(['No'], axis=1)\n",
        "\n",
        "print(\"Feature-target split completed!\")\n",
        "print(f\"X_train shape: {X_train.shape}\")\n",
        "print(f\"y_train shape: {y_train.shape}\")\n",
        "print(f\"X_test shape: {X_test.shape}\")\n",
        "\n",
        "print(f\"\\nFinal features: {X_train.columns.tolist()}\")"
      ]
    },
    {
      "cell_type": "code",
      "execution_count": 55,
      "metadata": {},
      "outputs": [
        {
          "name": "stdout",
          "output_type": "stream",
          "text": [
            "Feature scaling\n",
            "X_train_scaled shape: (28755, 9)\n",
            "X_test_scaled shape: (13148, 9)\n",
            "y_train_scaled shape: (28755,)\n",
            "\n",
            "Scaling completed!\n"
          ]
        }
      ],
      "source": [
        "# Feature scaling - important for neural networks\n",
        "from sklearn.preprocessing import StandardScaler\n",
        "\n",
        "print(\"Feature scaling\")\n",
        "scaler_X = StandardScaler()\n",
        "scaler_y = StandardScaler()\n",
        "\n",
        "# Fit and transform features\n",
        "X_train_scaled = scaler_X.fit_transform(X_train)\n",
        "X_test_scaled = scaler_X.transform(X_test)\n",
        "\n",
        "# Scale target (we'll need to inverse transform predictions later)\n",
        "y_train_scaled = scaler_y.fit_transform(y_train.values.reshape(-1, 1)).flatten()\n",
        "\n",
        "print(f\"X_train_scaled shape: {X_train_scaled.shape}\")\n",
        "print(f\"X_test_scaled shape: {X_test_scaled.shape}\")\n",
        "print(f\"y_train_scaled shape: {y_train_scaled.shape}\")\n",
        "\n",
        "print(\"\\nScaling completed!\")"
      ]
    },
    {
      "cell_type": "code",
      "execution_count": 56,
      "metadata": {},
      "outputs": [
        {
          "name": "stdout",
          "output_type": "stream",
          "text": [
            "Creating sequences for LSTM...\n",
            "Using sequence length: 24 hours\n",
            "\n",
            "Original data shapes:\n",
            "  X_train_scaled: (28755, 9)\n",
            "  y_train_scaled: (28755,)\n",
            "\n",
            "Sequence shapes:\n",
            "  X_train_seq: (28731, 24, 9)\n",
            "  y_train_seq: (28731,)\n",
            "\n",
            "Samples lost due to sequence creation: 24\n",
            "Remaining training samples: 28731\n",
            "\n",
            "Original data shapes:\n",
            "  X_train_scaled: (28755, 9)\n",
            "  y_train_scaled: (28755,)\n",
            "\n",
            "Sequence shapes:\n",
            "  X_train_seq: (28731, 24, 9)\n",
            "  y_train_seq: (28731,)\n",
            "\n",
            "Samples lost due to sequence creation: 24\n",
            "Remaining training samples: 28731\n"
          ]
        }
      ],
      "source": [
        "# Create sequences for LSTM\n",
        "SEQUENCE_LENGTH = 24  # 24 hours - captures daily patterns\n",
        "\n",
        "def create_sequences(X, y, sequence_length):\n",
        "    \"\"\"\n",
        "    Create sequences for LSTM input\n",
        "    X shape: (timesteps, features)\n",
        "    Returns: X_seq shape (samples, sequence_length, features), y_seq shape (samples,)\n",
        "    \"\"\"\n",
        "    X_seq, y_seq = [], []\n",
        "\n",
        "    for i in range(sequence_length, len(X)):\n",
        "        # Take previous 'sequence_length' timesteps as input\n",
        "        X_seq.append(X[i-sequence_length:i])\n",
        "        # Current timestep as target\n",
        "        y_seq.append(y[i])\n",
        "\n",
        "    return np.array(X_seq), np.array(y_seq)\n",
        "\n",
        "print(\"Creating sequences for LSTM...\")\n",
        "print(f\"Using sequence length: {SEQUENCE_LENGTH} hours\")\n",
        "\n",
        "# Create training sequences\n",
        "X_train_seq, y_train_seq = create_sequences(X_train_scaled, y_train_scaled, SEQUENCE_LENGTH)\n",
        "\n",
        "print(f\"\\nOriginal data shapes:\")\n",
        "print(f\"  X_train_scaled: {X_train_scaled.shape}\")\n",
        "print(f\"  y_train_scaled: {y_train_scaled.shape}\")\n",
        "\n",
        "print(f\"\\nSequence shapes:\")\n",
        "print(f\"  X_train_seq: {X_train_seq.shape}\")  # Should be (samples, 24, features)\n",
        "print(f\"  y_train_seq: {y_train_seq.shape}\")  # Should be (samples,)\n",
        "\n",
        "print(f\"\\nSamples lost due to sequence creation: {len(X_train_scaled) - len(X_train_seq)}\")\n",
        "print(f\"Remaining training samples: {len(X_train_seq)}\")"
      ]
    },
    {
      "cell_type": "code",
      "execution_count": 57,
      "metadata": {},
      "outputs": [
        {
          "name": "stdout",
          "output_type": "stream",
          "text": [
            "Train-validation split (time series)\n",
            "Training samples: 22984\n",
            "Validation samples: 5747\n",
            "Validation split: 20.0%\n",
            "\n",
            "Final shapes for model:\n",
            "  X_train: (22984, 24, 9)\n",
            "  y_train: (22984,)\n",
            "  X_val: (5747, 24, 9)\n",
            "  y_val: (5747,)\n"
          ]
        }
      ],
      "source": [
        "# Time series train-validation split (no shuffling!)\n",
        "from sklearn.model_selection import train_test_split\n",
        "\n",
        "print(\"Train-validation split (time series)\")\n",
        "\n",
        "# For time series, we should split temporally (chronologically)\n",
        "# Use the last portion for validation\n",
        "val_size = 0.2  # 20% for validation\n",
        "split_idx = int(len(X_train_seq) * (1 - val_size))\n",
        "\n",
        "X_train_final = X_train_seq[:split_idx]\n",
        "X_val = X_train_seq[split_idx:]\n",
        "y_train_final = y_train_seq[:split_idx]\n",
        "y_val = y_train_seq[split_idx:]\n",
        "\n",
        "print(f\"Training samples: {len(X_train_final)}\")\n",
        "print(f\"Validation samples: {len(X_val)}\")\n",
        "print(f\"Validation split: {len(X_val) / len(X_train_seq) * 100:.1f}%\")\n",
        "\n",
        "print(f\"\\nFinal shapes for model:\")\n",
        "print(f\"  X_train: {X_train_final.shape}\")\n",
        "print(f\"  y_train: {y_train_final.shape}\")\n",
        "print(f\"  X_val: {X_val.shape}\")\n",
        "print(f\"  y_val: {y_val.shape}\")"
      ]
    },
    {
      "cell_type": "markdown",
      "metadata": {
        "id": "d488782wuR2W"
      },
      "source": [
        "# Model building\n",
        "\n",
        "Build and train LSTM model for time series forecasting."
      ]
    },
    {
      "cell_type": "code",
      "execution_count": 58,
      "metadata": {},
      "outputs": [
        {
          "name": "stdout",
          "output_type": "stream",
          "text": [
            "Building LSTM model\n",
            "Model created successfully!\n",
            "Model created successfully!\n"
          ]
        },
        {
          "data": {
            "text/html": [
              "<pre style=\"white-space:pre;overflow-x:auto;line-height:normal;font-family:Menlo,'DejaVu Sans Mono',consolas,'Courier New',monospace\"><span style=\"font-weight: bold\">Model: \"sequential_4\"</span>\n",
              "</pre>\n"
            ],
            "text/plain": [
              "\u001b[1mModel: \"sequential_4\"\u001b[0m\n"
            ]
          },
          "metadata": {},
          "output_type": "display_data"
        },
        {
          "data": {
            "text/html": [
              "<pre style=\"white-space:pre;overflow-x:auto;line-height:normal;font-family:Menlo,'DejaVu Sans Mono',consolas,'Courier New',monospace\">┏━━━━━━━━━━━━━━━━━━━━━━━━━━━━━━━━━┳━━━━━━━━━━━━━━━━━━━━━━━━┳━━━━━━━━━━━━━━━┓\n",
              "┃<span style=\"font-weight: bold\"> Layer (type)                    </span>┃<span style=\"font-weight: bold\"> Output Shape           </span>┃<span style=\"font-weight: bold\">       Param # </span>┃\n",
              "┡━━━━━━━━━━━━━━━━━━━━━━━━━━━━━━━━━╇━━━━━━━━━━━━━━━━━━━━━━━━╇━━━━━━━━━━━━━━━┩\n",
              "│ lstm_5 (<span style=\"color: #0087ff; text-decoration-color: #0087ff\">LSTM</span>)                   │ (<span style=\"color: #00d7ff; text-decoration-color: #00d7ff\">None</span>, <span style=\"color: #00af00; text-decoration-color: #00af00\">24</span>, <span style=\"color: #00af00; text-decoration-color: #00af00\">50</span>)         │        <span style=\"color: #00af00; text-decoration-color: #00af00\">12,000</span> │\n",
              "├─────────────────────────────────┼────────────────────────┼───────────────┤\n",
              "│ dropout_5 (<span style=\"color: #0087ff; text-decoration-color: #0087ff\">Dropout</span>)             │ (<span style=\"color: #00d7ff; text-decoration-color: #00d7ff\">None</span>, <span style=\"color: #00af00; text-decoration-color: #00af00\">24</span>, <span style=\"color: #00af00; text-decoration-color: #00af00\">50</span>)         │             <span style=\"color: #00af00; text-decoration-color: #00af00\">0</span> │\n",
              "├─────────────────────────────────┼────────────────────────┼───────────────┤\n",
              "│ lstm_6 (<span style=\"color: #0087ff; text-decoration-color: #0087ff\">LSTM</span>)                   │ (<span style=\"color: #00d7ff; text-decoration-color: #00d7ff\">None</span>, <span style=\"color: #00af00; text-decoration-color: #00af00\">50</span>)             │        <span style=\"color: #00af00; text-decoration-color: #00af00\">20,200</span> │\n",
              "├─────────────────────────────────┼────────────────────────┼───────────────┤\n",
              "│ dropout_6 (<span style=\"color: #0087ff; text-decoration-color: #0087ff\">Dropout</span>)             │ (<span style=\"color: #00d7ff; text-decoration-color: #00d7ff\">None</span>, <span style=\"color: #00af00; text-decoration-color: #00af00\">50</span>)             │             <span style=\"color: #00af00; text-decoration-color: #00af00\">0</span> │\n",
              "├─────────────────────────────────┼────────────────────────┼───────────────┤\n",
              "│ dense_6 (<span style=\"color: #0087ff; text-decoration-color: #0087ff\">Dense</span>)                 │ (<span style=\"color: #00d7ff; text-decoration-color: #00d7ff\">None</span>, <span style=\"color: #00af00; text-decoration-color: #00af00\">25</span>)             │         <span style=\"color: #00af00; text-decoration-color: #00af00\">1,275</span> │\n",
              "├─────────────────────────────────┼────────────────────────┼───────────────┤\n",
              "│ dense_7 (<span style=\"color: #0087ff; text-decoration-color: #0087ff\">Dense</span>)                 │ (<span style=\"color: #00d7ff; text-decoration-color: #00d7ff\">None</span>, <span style=\"color: #00af00; text-decoration-color: #00af00\">1</span>)              │            <span style=\"color: #00af00; text-decoration-color: #00af00\">26</span> │\n",
              "└─────────────────────────────────┴────────────────────────┴───────────────┘\n",
              "</pre>\n"
            ],
            "text/plain": [
              "┏━━━━━━━━━━━━━━━━━━━━━━━━━━━━━━━━━┳━━━━━━━━━━━━━━━━━━━━━━━━┳━━━━━━━━━━━━━━━┓\n",
              "┃\u001b[1m \u001b[0m\u001b[1mLayer (type)                   \u001b[0m\u001b[1m \u001b[0m┃\u001b[1m \u001b[0m\u001b[1mOutput Shape          \u001b[0m\u001b[1m \u001b[0m┃\u001b[1m \u001b[0m\u001b[1m      Param #\u001b[0m\u001b[1m \u001b[0m┃\n",
              "┡━━━━━━━━━━━━━━━━━━━━━━━━━━━━━━━━━╇━━━━━━━━━━━━━━━━━━━━━━━━╇━━━━━━━━━━━━━━━┩\n",
              "│ lstm_5 (\u001b[38;5;33mLSTM\u001b[0m)                   │ (\u001b[38;5;45mNone\u001b[0m, \u001b[38;5;34m24\u001b[0m, \u001b[38;5;34m50\u001b[0m)         │        \u001b[38;5;34m12,000\u001b[0m │\n",
              "├─────────────────────────────────┼────────────────────────┼───────────────┤\n",
              "│ dropout_5 (\u001b[38;5;33mDropout\u001b[0m)             │ (\u001b[38;5;45mNone\u001b[0m, \u001b[38;5;34m24\u001b[0m, \u001b[38;5;34m50\u001b[0m)         │             \u001b[38;5;34m0\u001b[0m │\n",
              "├─────────────────────────────────┼────────────────────────┼───────────────┤\n",
              "│ lstm_6 (\u001b[38;5;33mLSTM\u001b[0m)                   │ (\u001b[38;5;45mNone\u001b[0m, \u001b[38;5;34m50\u001b[0m)             │        \u001b[38;5;34m20,200\u001b[0m │\n",
              "├─────────────────────────────────┼────────────────────────┼───────────────┤\n",
              "│ dropout_6 (\u001b[38;5;33mDropout\u001b[0m)             │ (\u001b[38;5;45mNone\u001b[0m, \u001b[38;5;34m50\u001b[0m)             │             \u001b[38;5;34m0\u001b[0m │\n",
              "├─────────────────────────────────┼────────────────────────┼───────────────┤\n",
              "│ dense_6 (\u001b[38;5;33mDense\u001b[0m)                 │ (\u001b[38;5;45mNone\u001b[0m, \u001b[38;5;34m25\u001b[0m)             │         \u001b[38;5;34m1,275\u001b[0m │\n",
              "├─────────────────────────────────┼────────────────────────┼───────────────┤\n",
              "│ dense_7 (\u001b[38;5;33mDense\u001b[0m)                 │ (\u001b[38;5;45mNone\u001b[0m, \u001b[38;5;34m1\u001b[0m)              │            \u001b[38;5;34m26\u001b[0m │\n",
              "└─────────────────────────────────┴────────────────────────┴───────────────┘\n"
            ]
          },
          "metadata": {},
          "output_type": "display_data"
        },
        {
          "data": {
            "text/html": [
              "<pre style=\"white-space:pre;overflow-x:auto;line-height:normal;font-family:Menlo,'DejaVu Sans Mono',consolas,'Courier New',monospace\"><span style=\"font-weight: bold\"> Total params: </span><span style=\"color: #00af00; text-decoration-color: #00af00\">33,501</span> (130.86 KB)\n",
              "</pre>\n"
            ],
            "text/plain": [
              "\u001b[1m Total params: \u001b[0m\u001b[38;5;34m33,501\u001b[0m (130.86 KB)\n"
            ]
          },
          "metadata": {},
          "output_type": "display_data"
        },
        {
          "data": {
            "text/html": [
              "<pre style=\"white-space:pre;overflow-x:auto;line-height:normal;font-family:Menlo,'DejaVu Sans Mono',consolas,'Courier New',monospace\"><span style=\"font-weight: bold\"> Trainable params: </span><span style=\"color: #00af00; text-decoration-color: #00af00\">33,501</span> (130.86 KB)\n",
              "</pre>\n"
            ],
            "text/plain": [
              "\u001b[1m Trainable params: \u001b[0m\u001b[38;5;34m33,501\u001b[0m (130.86 KB)\n"
            ]
          },
          "metadata": {},
          "output_type": "display_data"
        },
        {
          "data": {
            "text/html": [
              "<pre style=\"white-space:pre;overflow-x:auto;line-height:normal;font-family:Menlo,'DejaVu Sans Mono',consolas,'Courier New',monospace\"><span style=\"font-weight: bold\"> Non-trainable params: </span><span style=\"color: #00af00; text-decoration-color: #00af00\">0</span> (0.00 B)\n",
              "</pre>\n"
            ],
            "text/plain": [
              "\u001b[1m Non-trainable params: \u001b[0m\u001b[38;5;34m0\u001b[0m (0.00 B)\n"
            ]
          },
          "metadata": {},
          "output_type": "display_data"
        }
      ],
      "source": [
        "# Build LSTM model\n",
        "from tensorflow.keras.models import Sequential\n",
        "from tensorflow.keras.layers import LSTM, Dense, Dropout\n",
        "from tensorflow.keras.optimizers import Adam\n",
        "\n",
        "print(\"Building LSTM model\")\n",
        "\n",
        "def create_lstm_model(input_shape):\n",
        "    model = Sequential([\n",
        "        # First LSTM layer\n",
        "        LSTM(50, return_sequences=True, input_shape=input_shape),\n",
        "        Dropout(0.2),\n",
        "\n",
        "        # Second LSTM layer\n",
        "        LSTM(50, return_sequences=False),\n",
        "        Dropout(0.2),\n",
        "\n",
        "        # Dense layers\n",
        "        Dense(25),\n",
        "        Dense(1)  # Output layer for regression\n",
        "    ])\n",
        "\n",
        "    model.compile(\n",
        "        optimizer=Adam(learning_rate=0.001),\n",
        "        loss='mse',\n",
        "        metrics=['mae']\n",
        "    )\n",
        "\n",
        "    return model\n",
        "\n",
        "# Create model\n",
        "input_shape = (SEQUENCE_LENGTH, X_train_final.shape[2])  # (24, 9)\n",
        "model = create_lstm_model(input_shape)\n",
        "\n",
        "# Display model architecture\n",
        "print(\"Model created successfully!\")\n",
        "model.summary()"
      ]
    },
    {
      "cell_type": "code",
      "execution_count": 59,
      "metadata": {
        "colab": {
          "base_uri": "https://localhost:8080/",
          "height": 249
        },
        "id": "mfx2LPHxq5fG",
        "outputId": "a5eab018-edc3-4ca5-f5f9-e896e2cbd0a1"
      },
      "outputs": [
        {
          "data": {
            "text/html": [
              "<pre style=\"white-space:pre;overflow-x:auto;line-height:normal;font-family:Menlo,'DejaVu Sans Mono',consolas,'Courier New',monospace\"><span style=\"font-weight: bold\">Model: \"sequential_5\"</span>\n",
              "</pre>\n"
            ],
            "text/plain": [
              "\u001b[1mModel: \"sequential_5\"\u001b[0m\n"
            ]
          },
          "metadata": {},
          "output_type": "display_data"
        },
        {
          "data": {
            "text/html": [
              "<pre style=\"white-space:pre;overflow-x:auto;line-height:normal;font-family:Menlo,'DejaVu Sans Mono',consolas,'Courier New',monospace\">┏━━━━━━━━━━━━━━━━━━━━━━━━━━━━━━━━━┳━━━━━━━━━━━━━━━━━━━━━━━━┳━━━━━━━━━━━━━━━┓\n",
              "┃<span style=\"font-weight: bold\"> Layer (type)                    </span>┃<span style=\"font-weight: bold\"> Output Shape           </span>┃<span style=\"font-weight: bold\">       Param # </span>┃\n",
              "┡━━━━━━━━━━━━━━━━━━━━━━━━━━━━━━━━━╇━━━━━━━━━━━━━━━━━━━━━━━━╇━━━━━━━━━━━━━━━┩\n",
              "│ lstm_7 (<span style=\"color: #0087ff; text-decoration-color: #0087ff\">LSTM</span>)                   │ (<span style=\"color: #00d7ff; text-decoration-color: #00d7ff\">None</span>, <span style=\"color: #00af00; text-decoration-color: #00af00\">32</span>)             │         <span style=\"color: #00af00; text-decoration-color: #00af00\">5,376</span> │\n",
              "├─────────────────────────────────┼────────────────────────┼───────────────┤\n",
              "│ dropout_7 (<span style=\"color: #0087ff; text-decoration-color: #0087ff\">Dropout</span>)             │ (<span style=\"color: #00d7ff; text-decoration-color: #00d7ff\">None</span>, <span style=\"color: #00af00; text-decoration-color: #00af00\">32</span>)             │             <span style=\"color: #00af00; text-decoration-color: #00af00\">0</span> │\n",
              "├─────────────────────────────────┼────────────────────────┼───────────────┤\n",
              "│ dense_8 (<span style=\"color: #0087ff; text-decoration-color: #0087ff\">Dense</span>)                 │ (<span style=\"color: #00d7ff; text-decoration-color: #00d7ff\">None</span>, <span style=\"color: #00af00; text-decoration-color: #00af00\">1</span>)              │            <span style=\"color: #00af00; text-decoration-color: #00af00\">33</span> │\n",
              "└─────────────────────────────────┴────────────────────────┴───────────────┘\n",
              "</pre>\n"
            ],
            "text/plain": [
              "┏━━━━━━━━━━━━━━━━━━━━━━━━━━━━━━━━━┳━━━━━━━━━━━━━━━━━━━━━━━━┳━━━━━━━━━━━━━━━┓\n",
              "┃\u001b[1m \u001b[0m\u001b[1mLayer (type)                   \u001b[0m\u001b[1m \u001b[0m┃\u001b[1m \u001b[0m\u001b[1mOutput Shape          \u001b[0m\u001b[1m \u001b[0m┃\u001b[1m \u001b[0m\u001b[1m      Param #\u001b[0m\u001b[1m \u001b[0m┃\n",
              "┡━━━━━━━━━━━━━━━━━━━━━━━━━━━━━━━━━╇━━━━━━━━━━━━━━━━━━━━━━━━╇━━━━━━━━━━━━━━━┩\n",
              "│ lstm_7 (\u001b[38;5;33mLSTM\u001b[0m)                   │ (\u001b[38;5;45mNone\u001b[0m, \u001b[38;5;34m32\u001b[0m)             │         \u001b[38;5;34m5,376\u001b[0m │\n",
              "├─────────────────────────────────┼────────────────────────┼───────────────┤\n",
              "│ dropout_7 (\u001b[38;5;33mDropout\u001b[0m)             │ (\u001b[38;5;45mNone\u001b[0m, \u001b[38;5;34m32\u001b[0m)             │             \u001b[38;5;34m0\u001b[0m │\n",
              "├─────────────────────────────────┼────────────────────────┼───────────────┤\n",
              "│ dense_8 (\u001b[38;5;33mDense\u001b[0m)                 │ (\u001b[38;5;45mNone\u001b[0m, \u001b[38;5;34m1\u001b[0m)              │            \u001b[38;5;34m33\u001b[0m │\n",
              "└─────────────────────────────────┴────────────────────────┴───────────────┘\n"
            ]
          },
          "metadata": {},
          "output_type": "display_data"
        },
        {
          "data": {
            "text/html": [
              "<pre style=\"white-space:pre;overflow-x:auto;line-height:normal;font-family:Menlo,'DejaVu Sans Mono',consolas,'Courier New',monospace\"><span style=\"font-weight: bold\"> Total params: </span><span style=\"color: #00af00; text-decoration-color: #00af00\">5,409</span> (21.13 KB)\n",
              "</pre>\n"
            ],
            "text/plain": [
              "\u001b[1m Total params: \u001b[0m\u001b[38;5;34m5,409\u001b[0m (21.13 KB)\n"
            ]
          },
          "metadata": {},
          "output_type": "display_data"
        },
        {
          "data": {
            "text/html": [
              "<pre style=\"white-space:pre;overflow-x:auto;line-height:normal;font-family:Menlo,'DejaVu Sans Mono',consolas,'Courier New',monospace\"><span style=\"font-weight: bold\"> Trainable params: </span><span style=\"color: #00af00; text-decoration-color: #00af00\">5,409</span> (21.13 KB)\n",
              "</pre>\n"
            ],
            "text/plain": [
              "\u001b[1m Trainable params: \u001b[0m\u001b[38;5;34m5,409\u001b[0m (21.13 KB)\n"
            ]
          },
          "metadata": {},
          "output_type": "display_data"
        },
        {
          "data": {
            "text/html": [
              "<pre style=\"white-space:pre;overflow-x:auto;line-height:normal;font-family:Menlo,'DejaVu Sans Mono',consolas,'Courier New',monospace\"><span style=\"font-weight: bold\"> Non-trainable params: </span><span style=\"color: #00af00; text-decoration-color: #00af00\">0</span> (0.00 B)\n",
              "</pre>\n"
            ],
            "text/plain": [
              "\u001b[1m Non-trainable params: \u001b[0m\u001b[38;5;34m0\u001b[0m (0.00 B)\n"
            ]
          },
          "metadata": {},
          "output_type": "display_data"
        }
      ],
      "source": [
        "model_simple = Sequential([\n",
        "    LSTM(32, activation='relu', input_shape=(SEQUENCE_LENGTH, X_train_final.shape[2])),\n",
        "    Dropout(0.2),\n",
        "    Dense(1)\n",
        "])\n",
        "\n",
        "model_simple.compile(\n",
        "    optimizer='adam',\n",
        "    loss='mse',\n",
        "    metrics=[lambda y, y_pred: tf.sqrt(tf.reduce_mean(tf.square(y - y_pred)))]\n",
        ")\n",
        "model_simple.summary()"
      ]
    },
    {
      "cell_type": "code",
      "execution_count": 60,
      "metadata": {},
      "outputs": [
        {
          "name": "stdout",
          "output_type": "stream",
          "text": [
            "Architecture: LSTM(32) → Dropout(0.2) → Dense(1)\n",
            "Parameters: 5,409\n",
            "\n",
            "Training setup:\n",
            "  Epochs: 50\n",
            "  Batch size: 32\n",
            "  Training samples: 22984\n",
            "  Validation samples: 5747\n"
          ]
        }
      ],
      "source": [
        "print(\"Architecture: LSTM(32) → Dropout(0.2) → Dense(1)\")\n",
        "print(f\"Parameters: {model_simple.count_params():,}\")\n",
        "\n",
        "# Set up training parameters\n",
        "EPOCHS = 50\n",
        "BATCH_SIZE = 32\n",
        "\n",
        "print(f\"\\nTraining setup:\")\n",
        "print(f\"  Epochs: {EPOCHS}\")\n",
        "print(f\"  Batch size: {BATCH_SIZE}\")\n",
        "print(f\"  Training samples: {len(X_train_final)}\")\n",
        "print(f\"  Validation samples: {len(X_val)}\")"
      ]
    },
    {
      "cell_type": "code",
      "execution_count": 61,
      "metadata": {},
      "outputs": [
        {
          "name": "stdout",
          "output_type": "stream",
          "text": [
            "Training LSTM Model\n",
            "Starting training...\n",
            "Epoch 1/100\n",
            "Epoch 1/100\n",
            "\u001b[1m719/719\u001b[0m \u001b[32m━━━━━━━━━━━━━━━━━━━━\u001b[0m\u001b[37m\u001b[0m \u001b[1m22s\u001b[0m 22ms/step - lambda: 1.1052 - loss: 0.5599 - val_lambda: 0.8542 - val_loss: 0.7345 - learning_rate: 0.0010\n",
            "Epoch 2/100\n",
            "\u001b[1m719/719\u001b[0m \u001b[32m━━━━━━━━━━━━━━━━━━━━\u001b[0m\u001b[37m\u001b[0m \u001b[1m22s\u001b[0m 22ms/step - lambda: 1.1052 - loss: 0.5599 - val_lambda: 0.8542 - val_loss: 0.7345 - learning_rate: 0.0010\n",
            "Epoch 2/100\n",
            "\u001b[1m719/719\u001b[0m \u001b[32m━━━━━━━━━━━━━━━━━━━━\u001b[0m\u001b[37m\u001b[0m \u001b[1m16s\u001b[0m 22ms/step - lambda: 1.1439 - loss: 0.4497 - val_lambda: 0.8616 - val_loss: 0.7053 - learning_rate: 0.0010\n",
            "Epoch 3/100\n",
            "\u001b[1m719/719\u001b[0m \u001b[32m━━━━━━━━━━━━━━━━━━━━\u001b[0m\u001b[37m\u001b[0m \u001b[1m16s\u001b[0m 22ms/step - lambda: 1.1439 - loss: 0.4497 - val_lambda: 0.8616 - val_loss: 0.7053 - learning_rate: 0.0010\n",
            "Epoch 3/100\n",
            "\u001b[1m719/719\u001b[0m \u001b[32m━━━━━━━━━━━━━━━━━━━━\u001b[0m\u001b[37m\u001b[0m \u001b[1m17s\u001b[0m 23ms/step - lambda: 1.1577 - loss: 0.4159 - val_lambda: 0.8596 - val_loss: 0.7083 - learning_rate: 0.0010\n",
            "Epoch 4/100\n",
            "\u001b[1m719/719\u001b[0m \u001b[32m━━━━━━━━━━━━━━━━━━━━\u001b[0m\u001b[37m\u001b[0m \u001b[1m17s\u001b[0m 23ms/step - lambda: 1.1577 - loss: 0.4159 - val_lambda: 0.8596 - val_loss: 0.7083 - learning_rate: 0.0010\n",
            "Epoch 4/100\n",
            "\u001b[1m719/719\u001b[0m \u001b[32m━━━━━━━━━━━━━━━━━━━━\u001b[0m\u001b[37m\u001b[0m \u001b[1m16s\u001b[0m 22ms/step - lambda: 1.1646 - loss: 0.3946 - val_lambda: 0.8688 - val_loss: 0.6832 - learning_rate: 0.0010\n",
            "Epoch 5/100\n",
            "\u001b[1m719/719\u001b[0m \u001b[32m━━━━━━━━━━━━━━━━━━━━\u001b[0m\u001b[37m\u001b[0m \u001b[1m16s\u001b[0m 22ms/step - lambda: 1.1646 - loss: 0.3946 - val_lambda: 0.8688 - val_loss: 0.6832 - learning_rate: 0.0010\n",
            "Epoch 5/100\n",
            "\u001b[1m719/719\u001b[0m \u001b[32m━━━━━━━━━━━━━━━━━━━━\u001b[0m\u001b[37m\u001b[0m \u001b[1m17s\u001b[0m 23ms/step - lambda: 1.1710 - loss: 0.3788 - val_lambda: 0.8557 - val_loss: 0.6715 - learning_rate: 0.0010\n",
            "Epoch 6/100\n",
            "\u001b[1m719/719\u001b[0m \u001b[32m━━━━━━━━━━━━━━━━━━━━\u001b[0m\u001b[37m\u001b[0m \u001b[1m17s\u001b[0m 23ms/step - lambda: 1.1710 - loss: 0.3788 - val_lambda: 0.8557 - val_loss: 0.6715 - learning_rate: 0.0010\n",
            "Epoch 6/100\n",
            "\u001b[1m719/719\u001b[0m \u001b[32m━━━━━━━━━━━━━━━━━━━━\u001b[0m\u001b[37m\u001b[0m \u001b[1m15s\u001b[0m 21ms/step - lambda: 1.1759 - loss: 0.3652 - val_lambda: 0.8575 - val_loss: 0.6808 - learning_rate: 0.0010\n",
            "Epoch 7/100\n",
            "\u001b[1m719/719\u001b[0m \u001b[32m━━━━━━━━━━━━━━━━━━━━\u001b[0m\u001b[37m\u001b[0m \u001b[1m15s\u001b[0m 21ms/step - lambda: 1.1759 - loss: 0.3652 - val_lambda: 0.8575 - val_loss: 0.6808 - learning_rate: 0.0010\n",
            "Epoch 7/100\n",
            "\u001b[1m719/719\u001b[0m \u001b[32m━━━━━━━━━━━━━━━━━━━━\u001b[0m\u001b[37m\u001b[0m \u001b[1m15s\u001b[0m 21ms/step - lambda: 1.1802 - loss: 0.3536 - val_lambda: 0.8655 - val_loss: 0.6674 - learning_rate: 0.0010\n",
            "Epoch 8/100\n",
            "\u001b[1m719/719\u001b[0m \u001b[32m━━━━━━━━━━━━━━━━━━━━\u001b[0m\u001b[37m\u001b[0m \u001b[1m15s\u001b[0m 21ms/step - lambda: 1.1802 - loss: 0.3536 - val_lambda: 0.8655 - val_loss: 0.6674 - learning_rate: 0.0010\n",
            "Epoch 8/100\n",
            "\u001b[1m719/719\u001b[0m \u001b[32m━━━━━━━━━━━━━━━━━━━━\u001b[0m\u001b[37m\u001b[0m \u001b[1m17s\u001b[0m 23ms/step - lambda: 1.1857 - loss: 0.3435 - val_lambda: 0.8604 - val_loss: 0.6708 - learning_rate: 0.0010\n",
            "Epoch 9/100\n",
            "\u001b[1m719/719\u001b[0m \u001b[32m━━━━━━━━━━━━━━━━━━━━\u001b[0m\u001b[37m\u001b[0m \u001b[1m17s\u001b[0m 23ms/step - lambda: 1.1857 - loss: 0.3435 - val_lambda: 0.8604 - val_loss: 0.6708 - learning_rate: 0.0010\n",
            "Epoch 9/100\n",
            "\u001b[1m719/719\u001b[0m \u001b[32m━━━━━━━━━━━━━━━━━━━━\u001b[0m\u001b[37m\u001b[0m \u001b[1m16s\u001b[0m 22ms/step - lambda: 1.1882 - loss: 0.3345 - val_lambda: 0.8663 - val_loss: 0.6715 - learning_rate: 0.0010\n",
            "Epoch 10/100\n",
            "\u001b[1m719/719\u001b[0m \u001b[32m━━━━━━━━━━━━━━━━━━━━\u001b[0m\u001b[37m\u001b[0m \u001b[1m16s\u001b[0m 22ms/step - lambda: 1.1882 - loss: 0.3345 - val_lambda: 0.8663 - val_loss: 0.6715 - learning_rate: 0.0010\n",
            "Epoch 10/100\n",
            "\u001b[1m719/719\u001b[0m \u001b[32m━━━━━━━━━━━━━━━━━━━━\u001b[0m\u001b[37m\u001b[0m \u001b[1m15s\u001b[0m 21ms/step - lambda: 1.1905 - loss: 0.3273 - val_lambda: 0.8797 - val_loss: 0.6769 - learning_rate: 0.0010\n",
            "Epoch 11/100\n",
            "\u001b[1m719/719\u001b[0m \u001b[32m━━━━━━━━━━━━━━━━━━━━\u001b[0m\u001b[37m\u001b[0m \u001b[1m15s\u001b[0m 21ms/step - lambda: 1.1905 - loss: 0.3273 - val_lambda: 0.8797 - val_loss: 0.6769 - learning_rate: 0.0010\n",
            "Epoch 11/100\n",
            "\u001b[1m719/719\u001b[0m \u001b[32m━━━━━━━━━━━━━━━━━━━━\u001b[0m\u001b[37m\u001b[0m \u001b[1m16s\u001b[0m 22ms/step - lambda: 1.1931 - loss: 0.3210 - val_lambda: 0.8784 - val_loss: 0.6875 - learning_rate: 0.0010\n",
            "Epoch 12/100\n",
            "\u001b[1m719/719\u001b[0m \u001b[32m━━━━━━━━━━━━━━━━━━━━\u001b[0m\u001b[37m\u001b[0m \u001b[1m16s\u001b[0m 22ms/step - lambda: 1.1931 - loss: 0.3210 - val_lambda: 0.8784 - val_loss: 0.6875 - learning_rate: 0.0010\n",
            "Epoch 12/100\n",
            "\u001b[1m719/719\u001b[0m \u001b[32m━━━━━━━━━━━━━━━━━━━━\u001b[0m\u001b[37m\u001b[0m \u001b[1m13s\u001b[0m 18ms/step - lambda: 1.1951 - loss: 0.3135 - val_lambda: 0.8898 - val_loss: 0.6843 - learning_rate: 0.0010\n",
            "Epoch 13/100\n",
            "\u001b[1m719/719\u001b[0m \u001b[32m━━━━━━━━━━━━━━━━━━━━\u001b[0m\u001b[37m\u001b[0m \u001b[1m13s\u001b[0m 18ms/step - lambda: 1.1951 - loss: 0.3135 - val_lambda: 0.8898 - val_loss: 0.6843 - learning_rate: 0.0010\n",
            "Epoch 13/100\n",
            "\u001b[1m719/719\u001b[0m \u001b[32m━━━━━━━━━━━━━━━━━━━━\u001b[0m\u001b[37m\u001b[0m \u001b[1m15s\u001b[0m 20ms/step - lambda: 1.1982 - loss: 0.3037 - val_lambda: 0.8858 - val_loss: 0.6918 - learning_rate: 0.0010\n",
            "Epoch 14/100\n",
            "\u001b[1m719/719\u001b[0m \u001b[32m━━━━━━━━━━━━━━━━━━━━\u001b[0m\u001b[37m\u001b[0m \u001b[1m15s\u001b[0m 20ms/step - lambda: 1.1982 - loss: 0.3037 - val_lambda: 0.8858 - val_loss: 0.6918 - learning_rate: 0.0010\n",
            "Epoch 14/100\n",
            "\u001b[1m719/719\u001b[0m \u001b[32m━━━━━━━━━━━━━━━━━━━━\u001b[0m\u001b[37m\u001b[0m \u001b[1m0s\u001b[0m 22ms/step - lambda: 1.2068 - loss: 0.3079\n",
            "Epoch 14: ReduceLROnPlateau reducing learning rate to 0.0005000000237487257.\n",
            "\u001b[1m719/719\u001b[0m \u001b[32m━━━━━━━━━━━━━━━━━━━━\u001b[0m\u001b[37m\u001b[0m \u001b[1m18s\u001b[0m 25ms/step - lambda: 1.1999 - loss: 0.3005 - val_lambda: 0.8943 - val_loss: 0.6985 - learning_rate: 0.0010\n",
            "\n",
            "Epoch 14: ReduceLROnPlateau reducing learning rate to 0.0005000000237487257.\n",
            "\u001b[1m719/719\u001b[0m \u001b[32m━━━━━━━━━━━━━━━━━━━━\u001b[0m\u001b[37m\u001b[0m \u001b[1m18s\u001b[0m 25ms/step - lambda: 1.1999 - loss: 0.3005 - val_lambda: 0.8943 - val_loss: 0.6985 - learning_rate: 0.0010\n",
            "Epoch 15/100\n",
            "Epoch 15/100\n",
            "\u001b[1m719/719\u001b[0m \u001b[32m━━━━━━━━━━━━━━━━━━━━\u001b[0m\u001b[37m\u001b[0m \u001b[1m19s\u001b[0m 26ms/step - lambda: 1.2066 - loss: 0.2796 - val_lambda: 0.8975 - val_loss: 0.7165 - learning_rate: 5.0000e-04\n",
            "Epoch 16/100\n",
            "\u001b[1m719/719\u001b[0m \u001b[32m━━━━━━━━━━━━━━━━━━━━\u001b[0m\u001b[37m\u001b[0m \u001b[1m19s\u001b[0m 26ms/step - lambda: 1.2066 - loss: 0.2796 - val_lambda: 0.8975 - val_loss: 0.7165 - learning_rate: 5.0000e-04\n",
            "Epoch 16/100\n",
            "\u001b[1m719/719\u001b[0m \u001b[32m━━━━━━━━━━━━━━━━━━━━\u001b[0m\u001b[37m\u001b[0m \u001b[1m18s\u001b[0m 24ms/step - lambda: 1.2084 - loss: 0.2732 - val_lambda: 0.8963 - val_loss: 0.7293 - learning_rate: 5.0000e-04\n",
            "Epoch 17/100\n",
            "\u001b[1m719/719\u001b[0m \u001b[32m━━━━━━━━━━━━━━━━━━━━\u001b[0m\u001b[37m\u001b[0m \u001b[1m18s\u001b[0m 24ms/step - lambda: 1.2084 - loss: 0.2732 - val_lambda: 0.8963 - val_loss: 0.7293 - learning_rate: 5.0000e-04\n",
            "Epoch 17/100\n",
            "\u001b[1m719/719\u001b[0m \u001b[32m━━━━━━━━━━━━━━━━━━━━\u001b[0m\u001b[37m\u001b[0m \u001b[1m17s\u001b[0m 24ms/step - lambda: 1.2098 - loss: 0.2715 - val_lambda: 0.8987 - val_loss: 0.7506 - learning_rate: 5.0000e-04\n",
            "Epoch 18/100\n",
            "\u001b[1m719/719\u001b[0m \u001b[32m━━━━━━━━━━━━━━━━━━━━\u001b[0m\u001b[37m\u001b[0m \u001b[1m17s\u001b[0m 24ms/step - lambda: 1.2098 - loss: 0.2715 - val_lambda: 0.8987 - val_loss: 0.7506 - learning_rate: 5.0000e-04\n",
            "Epoch 18/100\n",
            "\u001b[1m719/719\u001b[0m \u001b[32m━━━━━━━━━━━━━━━━━━━━\u001b[0m\u001b[37m\u001b[0m \u001b[1m17s\u001b[0m 24ms/step - lambda: 1.2111 - loss: 0.2650 - val_lambda: 0.9090 - val_loss: 0.7553 - learning_rate: 5.0000e-04\n",
            "Epoch 19/100\n",
            "\u001b[1m719/719\u001b[0m \u001b[32m━━━━━━━━━━━━━━━━━━━━\u001b[0m\u001b[37m\u001b[0m \u001b[1m17s\u001b[0m 24ms/step - lambda: 1.2111 - loss: 0.2650 - val_lambda: 0.9090 - val_loss: 0.7553 - learning_rate: 5.0000e-04\n",
            "Epoch 19/100\n",
            "\u001b[1m719/719\u001b[0m \u001b[32m━━━━━━━━━━━━━━━━━━━━\u001b[0m\u001b[37m\u001b[0m \u001b[1m18s\u001b[0m 25ms/step - lambda: 1.2126 - loss: 0.2635 - val_lambda: 0.8958 - val_loss: 0.7463 - learning_rate: 5.0000e-04\n",
            "Epoch 20/100\n",
            "\u001b[1m719/719\u001b[0m \u001b[32m━━━━━━━━━━━━━━━━━━━━\u001b[0m\u001b[37m\u001b[0m \u001b[1m18s\u001b[0m 25ms/step - lambda: 1.2126 - loss: 0.2635 - val_lambda: 0.8958 - val_loss: 0.7463 - learning_rate: 5.0000e-04\n",
            "Epoch 20/100\n",
            "\u001b[1m719/719\u001b[0m \u001b[32m━━━━━━━━━━━━━━━━━━━━\u001b[0m\u001b[37m\u001b[0m \u001b[1m16s\u001b[0m 22ms/step - lambda: 1.2146 - loss: 0.2592 - val_lambda: 0.8985 - val_loss: 0.7605 - learning_rate: 5.0000e-04\n",
            "Epoch 21/100\n",
            "\u001b[1m719/719\u001b[0m \u001b[32m━━━━━━━━━━━━━━━━━━━━\u001b[0m\u001b[37m\u001b[0m \u001b[1m16s\u001b[0m 22ms/step - lambda: 1.2146 - loss: 0.2592 - val_lambda: 0.8985 - val_loss: 0.7605 - learning_rate: 5.0000e-04\n",
            "Epoch 21/100\n",
            "\u001b[1m716/719\u001b[0m \u001b[32m━━━━━━━━━━━━━━━━━━━\u001b[0m\u001b[37m━\u001b[0m \u001b[1m0s\u001b[0m 17ms/step - lambda: 1.2215 - loss: 0.2599\n",
            "Epoch 21: ReduceLROnPlateau reducing learning rate to 0.0002500000118743628.\n",
            "\u001b[1m719/719\u001b[0m \u001b[32m━━━━━━━━━━━━━━━━━━━━\u001b[0m\u001b[37m\u001b[0m \u001b[1m14s\u001b[0m 19ms/step - lambda: 1.2143 - loss: 0.2546 - val_lambda: 0.9116 - val_loss: 0.7755 - learning_rate: 5.0000e-04\n",
            "\n",
            "Epoch 21: ReduceLROnPlateau reducing learning rate to 0.0002500000118743628.\n",
            "\u001b[1m719/719\u001b[0m \u001b[32m━━━━━━━━━━━━━━━━━━━━\u001b[0m\u001b[37m\u001b[0m \u001b[1m14s\u001b[0m 19ms/step - lambda: 1.2143 - loss: 0.2546 - val_lambda: 0.9116 - val_loss: 0.7755 - learning_rate: 5.0000e-04\n",
            "Epoch 22/100\n",
            "Epoch 22/100\n",
            "\u001b[1m719/719\u001b[0m \u001b[32m━━━━━━━━━━━━━━━━━━━━\u001b[0m\u001b[37m\u001b[0m \u001b[1m14s\u001b[0m 19ms/step - lambda: 1.2179 - loss: 0.2454 - val_lambda: 0.9197 - val_loss: 0.7844 - learning_rate: 2.5000e-04\n",
            "Epoch 22: early stopping\n",
            "Restoring model weights from the end of the best epoch: 7.\n",
            "\u001b[1m719/719\u001b[0m \u001b[32m━━━━━━━━━━━━━━━━━━━━\u001b[0m\u001b[37m\u001b[0m \u001b[1m14s\u001b[0m 19ms/step - lambda: 1.2179 - loss: 0.2454 - val_lambda: 0.9197 - val_loss: 0.7844 - learning_rate: 2.5000e-04\n",
            "Epoch 22: early stopping\n",
            "Restoring model weights from the end of the best epoch: 7.\n",
            "Training completed!\n",
            "Training completed!\n"
          ]
        }
      ],
      "source": [
        "from tensorflow.keras.callbacks import EarlyStopping, ReduceLROnPlateau\n",
        "\n",
        "print(\"Training LSTM Model\")\n",
        "\n",
        "# Set up callbacks for optimal training\n",
        "early_stopping = EarlyStopping(\n",
        "    monitor='val_loss',\n",
        "    patience=15,  # Wait 15 epochs for improvement\n",
        "    restore_best_weights=True,\n",
        "    verbose=1\n",
        ")\n",
        "\n",
        "reduce_lr = ReduceLROnPlateau(\n",
        "    monitor='val_loss',\n",
        "    factor=0.5,\n",
        "    patience=7,\n",
        "    min_lr=0.0001,\n",
        "    verbose=1\n",
        ")\n",
        "\n",
        "# Training parameters\n",
        "EPOCHS = 100  # Set high, early stopping will control actual training time\n",
        "BATCH_SIZE = 32\n",
        "\n",
        "# Start training\n",
        "print(\"Starting training...\")\n",
        "history = model_simple.fit(\n",
        "    X_train_final, y_train_final,\n",
        "    batch_size=BATCH_SIZE,\n",
        "    epochs=EPOCHS,\n",
        "    validation_data=(X_val, y_val),\n",
        "    callbacks=[early_stopping, reduce_lr],\n",
        "    verbose=1\n",
        ")\n",
        "\n",
        "print(\"Training completed!\")"
      ]
    },
    {
      "cell_type": "code",
      "execution_count": 62,
      "metadata": {},
      "outputs": [
        {
          "data": {
            "image/png": "[encoded data removed]",
            "text/plain": [
              "<Figure size 1200x400 with 2 Axes>"
            ]
          },
          "metadata": {},
          "output_type": "display_data"
        },
        {
          "name": "stdout",
          "output_type": "stream",
          "text": [
            "\n",
            "Best Validation Loss (MSE): 0.6674\n",
            "Best Validation RMSE: 0.8169\n"
          ]
        }
      ],
      "source": [
        "# Plot training history\n",
        "import matplotlib.pyplot as plt\n",
        "\n",
        "plt.figure(figsize=(12, 4))\n",
        "\n",
        "# Plot loss\n",
        "plt.subplot(1, 2, 1)\n",
        "plt.plot(history.history['loss'], label='Training Loss')\n",
        "plt.plot(history.history['val_loss'], label='Validation Loss')\n",
        "plt.title('Model Loss')\n",
        "plt.xlabel('Epoch')\n",
        "plt.ylabel('Loss (MSE)')\n",
        "plt.legend()\n",
        "\n",
        "# Plot RMSE\n",
        "plt.subplot(1, 2, 2)\n",
        "train_rmse = [np.sqrt(loss) for loss in history.history['loss']]\n",
        "val_rmse = [np.sqrt(loss) for loss in history.history['val_loss']]\n",
        "plt.plot(train_rmse, label='Training RMSE')\n",
        "plt.plot(val_rmse, label='Validation RMSE')\n",
        "plt.title('Model RMSE')\n",
        "plt.xlabel('Epoch')\n",
        "plt.ylabel('RMSE')\n",
        "plt.legend()\n",
        "\n",
        "plt.tight_layout()\n",
        "plt.show()\n",
        "\n",
        "# Print final metrics\n",
        "final_val_loss = min(history.history['val_loss'])\n",
        "final_val_rmse = np.sqrt(final_val_loss)\n",
        "print(f\"\\nBest Validation Loss (MSE): {final_val_loss:.4f}\")\n",
        "print(f\"Best Validation RMSE: {final_val_rmse:.4f}\")"
      ]
    },
    {
      "cell_type": "code",
      "execution_count": 63,
      "metadata": {},
      "outputs": [
        {
          "name": "stdout",
          "output_type": "stream",
          "text": [
            "Converting predictions to original scale\n",
            "\u001b[1m180/180\u001b[0m \u001b[32m━━━━━━━━━━━━━━━━━━━━\u001b[0m\u001b[37m\u001b[0m \u001b[1m2s\u001b[0m 8ms/step\n",
            "\u001b[1m180/180\u001b[0m \u001b[32m━━━━━━━━━━━━━━━━━━━━\u001b[0m\u001b[37m\u001b[0m \u001b[1m2s\u001b[0m 8ms/step\n",
            "Validation RMSE in original PM2.5 units: 76.09\n",
            "Target RMSE for competition: < 4000\n",
            "Current performance: GOOD\n",
            "\n",
            "Prediction statistics:\n",
            "  Min prediction: -64.8\n",
            "  Max prediction: 386.7\n",
            "  Mean prediction: 108.3\n",
            "\n",
            "Actual statistics:\n",
            "  Min actual: 4.0\n",
            "  Max actual: 886.0\n",
            "  Mean actual: 111.5\n",
            "Validation RMSE in original PM2.5 units: 76.09\n",
            "Target RMSE for competition: < 4000\n",
            "Current performance: GOOD\n",
            "\n",
            "Prediction statistics:\n",
            "  Min prediction: -64.8\n",
            "  Max prediction: 386.7\n",
            "  Mean prediction: 108.3\n",
            "\n",
            "Actual statistics:\n",
            "  Min actual: 4.0\n",
            "  Max actual: 886.0\n",
            "  Mean actual: 111.5\n"
          ]
        }
      ],
      "source": [
        "print(\"Converting predictions to original scale\")\n",
        "\n",
        "# Make predictions on validation set\n",
        "val_pred_scaled = model_simple.predict(X_val)\n",
        "val_pred_original = scaler_y.inverse_transform(val_pred_scaled.reshape(-1, 1)).flatten()\n",
        "val_true_original = scaler_y.inverse_transform(y_val.reshape(-1, 1)).flatten()\n",
        "\n",
        "# Calculate RMSE in original scale\n",
        "val_rmse_original = np.sqrt(np.mean((val_true_original - val_pred_original)**2))\n",
        "\n",
        "print(f\"Validation RMSE in original PM2.5 units: {val_rmse_original:.2f}\")\n",
        "print(f\"Target RMSE for competition: < 4000\")\n",
        "print(f\"Current performance: {'GOOD' if val_rmse_original < 4000 else 'NEEDS IMPROVEMENT'}\")\n",
        "\n",
        "# Show prediction range\n",
        "print(f\"\\nPrediction statistics:\")\n",
        "print(f\"  Min prediction: {val_pred_original.min():.1f}\")\n",
        "print(f\"  Max prediction: {val_pred_original.max():.1f}\")\n",
        "print(f\"  Mean prediction: {val_pred_original.mean():.1f}\")\n",
        "print(f\"\\nActual statistics:\")\n",
        "print(f\"  Min actual: {val_true_original.min():.1f}\")\n",
        "print(f\"  Max actual: {val_true_original.max():.1f}\")\n",
        "print(f\"  Mean actual: {val_true_original.mean():.1f}\")"
      ]
    },
    {
      "cell_type": "code",
      "execution_count": 64,
      "metadata": {},
      "outputs": [
        {
          "name": "stdout",
          "output_type": "stream",
          "text": [
            "Preparing test predictions for submission\n",
            "Processing test data...\n",
            "Original test shape: (13148, 9)\n",
            "Last training samples: (24, 9)\n",
            "Combined data shape: (13172, 9)\n",
            "Test sequences shape: (13148, 24, 9)\n",
            "Expected test predictions: 13148 (should match sequences: 13148)\n",
            "Making predictions...\n",
            "\u001b[1m411/411\u001b[0m \u001b[32m━━━━━━━━━━━━━━━━━━━━\u001b[0m\u001b[37m\u001b[0m \u001b[1m3s\u001b[0m 7ms/step\n",
            "\u001b[1m411/411\u001b[0m \u001b[32m━━━━━━━━━━━━━━━━━━━━\u001b[0m\u001b[37m\u001b[0m \u001b[1m3s\u001b[0m 7ms/step\n",
            "Prediction statistics (original units):\n",
            "  Min: -21.2\n",
            "  Max: 380.5\n",
            "  Mean: 96.5\n",
            "Prediction statistics (original units):\n",
            "  Min: -21.2\n",
            "  Max: 380.5\n",
            "  Mean: 96.5\n",
            "Submission file saved as: final_submission.csv\n",
            "Model validation RMSE: 75.85 (Target < 4000)\n",
            "Ready to submit!\n",
            "Submission file saved as: final_submission.csv\n",
            "Model validation RMSE: 75.85 (Target < 4000)\n",
            "Ready to submit!\n"
          ]
        }
      ],
      "source": [
        "print(\"Preparing test predictions for submission\")\n",
        "\n",
        "# Step 1: Process test data properly\n",
        "print(\"Processing test data...\")\n",
        "print(f\"Original test shape: {X_test_scaled.shape}\")\n",
        "\n",
        "# Step 2: Create sequences for test data (LSTM needs sequences!)\n",
        "\n",
        "# Combine last part of training with test data for sequence creation\n",
        "last_train_X = X_train_scaled[-SEQUENCE_LENGTH:]  # Last 24 training samples\n",
        "combined_X = np.vstack([last_train_X, X_test_scaled])  # Combine them\n",
        "\n",
        "print(f\"Last training samples: {last_train_X.shape}\")\n",
        "print(f\"Combined data shape: {combined_X.shape}\")\n",
        "\n",
        "# Create sequences for test predictions\n",
        "X_test_sequences = []\n",
        "for i in range(SEQUENCE_LENGTH, len(combined_X)):\n",
        "    X_test_sequences.append(combined_X[i-SEQUENCE_LENGTH:i])\n",
        "\n",
        "X_test_sequences = np.array(X_test_sequences)\n",
        "print(f\"Test sequences shape: {X_test_sequences.shape}\")\n",
        "print(f\"Expected test predictions: {len(test)} (should match sequences: {len(X_test_sequences)})\")\n",
        "\n",
        "# Step 3: Make predictions using the correct model\n",
        "print(\"Making predictions...\")\n",
        "test_pred_scaled = model_simple.predict(X_test_sequences, verbose=1)\n",
        "\n",
        "# Step 4: Convert back to original PM2.5 units\n",
        "test_pred_original = scaler_y.inverse_transform(test_pred_scaled.reshape(-1, 1)).flatten()\n",
        "\n",
        "print(f\"Prediction statistics (original units):\")\n",
        "print(f\"  Min: {test_pred_original.min():.1f}\")\n",
        "print(f\"  Max: {test_pred_original.max():.1f}\")\n",
        "print(f\"  Mean: {test_pred_original.mean():.1f}\")\n",
        "\n",
        "# Step 5: Ensure no negative predictions (PM2.5 can't be negative)\n",
        "test_pred_original = np.maximum(test_pred_original, 0)\n",
        "\n",
        "# Create final submission with correct datetime format\n",
        "def format_datetime_no_leading_zero(dt):\n",
        "    \"\"\"Format datetime to match sample submission exactly\"\"\"\n",
        "    return f\"{dt.year}-{dt.month:02d}-{dt.day:02d} {dt.hour}:{dt.minute:02d}:{dt.second:02d}\"\n",
        "\n",
        "# Apply manual formatting\n",
        "row_ids_formatted = [format_datetime_no_leading_zero(dt) for dt in test.index]\n",
        "\n",
        "# Create final submission\n",
        "submission = pd.DataFrame({\n",
        "    'row ID': row_ids_formatted,\n",
        "    'pm2.5': test_pred_original.astype(int)\n",
        "})\n",
        "\n",
        "# Step 7: Save submission file\n",
        "submission_path = 'final_submission.csv'\n",
        "submission.to_csv(submission_path, index=False)\n",
        "print(f\"Submission file saved as: {submission_path}\")\n",
        "print(\"Model validation RMSE: 75.85 (Target < 4000)\")\n",
        "print(\"Ready to submit!\")"
      ]
    }
  ],
  "metadata": {
    "colab": {
      "provenance": []
    },
    "kernelspec": {
      "display_name": "Python 3",
      "name": "python3"
    },
    "language_info": {
      "codemirror_mode": {
        "name": "ipython",
        "version": 3
      },
      "file_extension": ".py",
      "mimetype": "text/x-python",
      "name": "python",
      "nbconvert_exporter": "python",
      "pygments_lexer": "ipython3",
      "version": "3.13.7"
    }
  },
  "nbformat": 4,
  "nbformat_minor": 0
}
